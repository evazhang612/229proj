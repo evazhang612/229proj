{
 "cells": [
  {
   "cell_type": "code",
   "execution_count": 5,
   "metadata": {},
   "outputs": [],
   "source": [
    "from datetime import datetime\n",
    "\n",
    "import numpy as np\n",
    "import pandas as pd\n",
    "\n",
    "FAMA_49CRSP = 'FAMA_49CRSP.csv'"
   ]
  },
  {
   "cell_type": "code",
   "execution_count": 6,
   "metadata": {},
   "outputs": [],
   "source": [
    "def read_csv(filename):\n",
    "    \"\"\"\n",
    "    Read in CSV file of financial ratios and returns a pandas dataframe.\n",
    "    df is sorted by date in ascending order. \n",
    "    \"\"\"\n",
    "    df = pd.read_csv(filename)\n",
    "    \n",
    "    df = df.drop(labels=['pe_op_basic_Median', 'pe_op_dil_Median', 'PEG_1yrforward_Median', 'PEG_ltgforward_Median'], axis=1)\n",
    "    df = df.dropna()\n",
    "    df = df.sort_values(by='public_date', ascending=True)\n",
    "    \n",
    "    return df\n",
    "\n",
    "def pct_format(col): \n",
    "    temp = [float(x[:-1]) if x is not np.nan else 0 for x in col]\n",
    "    return pd.Series(temp)\n",
    "\n",
    "def write_csv(filename):\n",
    "    \"\"\"\n",
    "    Read in CSV file of financial ratios and returns a pandas dataframe.\n",
    "    Drops empty columns and reformats a str col into a float col. \n",
    "    df is sorted by date in ascending order. \n",
    "    \"\"\"\n",
    "    df = read_csv(filename)\n",
    "    \n",
    "    df['divyield_Median'] = pct_format(df['divyield_Median'])\n",
    "    \n",
    "    df.to_csv('FAMA_49CRSP.csv')\n",
    "    \n",
    "write_csv('ee6d2f60cdafb550.csv')"
   ]
  },
  {
   "cell_type": "code",
   "execution_count": 8,
   "metadata": {},
   "outputs": [
    {
     "name": "stdout",
     "output_type": "stream",
     "text": [
      "{'OIL', 'FABPR', 'MEDEQ', 'TRANS', 'BUSSV', 'TOYS', 'RTAIL', 'SOFTW', 'CNSTR', 'OTHER', 'BANKS', 'GUNS', 'WHLSL', 'DRUGS', 'RLEST', 'ELCEQ', 'CHIPS', 'AUTOS', 'GOLD', 'PAPER', 'FIN', 'LABEQ', 'MACH', 'SODA', 'INSUR', 'COAL', 'RUBBR', 'AERO', 'FOOD', 'BOXES', 'HARDW', 'BOOKS', 'MEALS', 'UTIL', 'SHIPS', 'AGRIC', 'CHEMS', 'BLDMT', 'BEER', 'CLTHS', 'STEEL', 'SMOKE', 'MINES', 'HSHLD', 'PERSV', 'TXTLS', 'FUN', 'HLTH', 'TELCM'}\n"
     ]
    }
   ],
   "source": [
    "def split_industries():\n",
    "    df = pd.read_csv(FAMA_49CRSP)\n",
    "    \n",
    "    industries = set(df['FFI49_desc'])    \n",
    "    for ind in industries: \n",
    "        df_ind = df[df['FFI49_desc'] == ind]\n",
    "        df_ind = df_ind.drop(labels='FFI49_desc', axis=1)\n",
    "        df_ind.to_csv('industries/{}.csv'.format(ind))\n",
    "        \n",
    "    return industries\n",
    "\n",
    "print(split_industries())"
   ]
  },
  {
   "cell_type": "code",
   "execution_count": null,
   "metadata": {},
   "outputs": [],
   "source": []
  }
 ],
 "metadata": {
  "kernelspec": {
   "display_name": "Python 3",
   "language": "python",
   "name": "python3"
  },
  "language_info": {
   "codemirror_mode": {
    "name": "ipython",
    "version": 3
   },
   "file_extension": ".py",
   "mimetype": "text/x-python",
   "name": "python",
   "nbconvert_exporter": "python",
   "pygments_lexer": "ipython3",
   "version": "3.6.5"
  }
 },
 "nbformat": 4,
 "nbformat_minor": 2
}
