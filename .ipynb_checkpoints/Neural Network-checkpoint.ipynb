{
 "cells": [
  {
   "cell_type": "code",
   "execution_count": 27,
   "metadata": {
    "scrolled": true
   },
   "outputs": [],
   "source": [
    "from datetime import datetime \n",
    "\n",
    "import numpy as np\n",
    "import pandas as pd\n",
    "import sklearn\n",
    "from sklearn.linear_model import LinearRegression\n",
    "#parse data \n",
    "from sklearn import preprocessing\n",
    "from sklearn.preprocessing import LabelEncoder\n",
    "#label encoding on categorical data \n",
    "\n",
    "#FAMA 49CRSP Common Stocks \n",
    "df = pd.read_csv('FAMA_49CRSP.csv', dtype={'public_date' : str})"
   ]
  },
  {
   "cell_type": "code",
   "execution_count": 28,
   "metadata": {
    "scrolled": true
   },
   "outputs": [],
   "source": [
    "import sklearn.preprocessing \n",
    "from sklearn.preprocessing import KBinsDiscretizer\n",
    "from sklearn.model_selection import train_test_split\n",
    "\n",
    "#preprocessing here\n",
    "#sort by date \n",
    "df = df.sort_values(by = 'public_date', ascending = True)\n",
    "\n",
    "#encode integer categories into numbers \n",
    "label_encoder = LabelEncoder()\n",
    "integer_encoded = label_encoder.fit_transform(df.FFI49_desc)\n",
    "df.FFI49_desc = integer_encoded\n",
    "\n",
    "#df = df.dropna()\n",
    "\n",
    "ewlabels = df.indret_ew\n",
    "vwlabels = df.indret_vw\n",
    "\n",
    "df = df.drop(labels=['indret_ew', 'indret_vw'], axis=1)\n",
    "#3year on year change as a prediction feature, raw pct change \n",
    "yoythree = ewlabels.diff(periods = 3)\n",
    "#3 years rolling percent change, averaged ie. (y1-y2 + (y3-y2)change)/2 \n",
    "rollavgpct = ewlabels.rolling(3).mean()\n",
    "\n",
    "#drop first 3 years\n",
    "df = df.iloc[3:]\n",
    "ewlabels = ewlabels.iloc[3:]\n",
    "yoythree = yoythree.iloc[3:]\n",
    "#yoypctthree = yoypctthree.iloc[3:]\n",
    "rollavgpct = rollavgpct.iloc[3:]\n",
    "\n",
    "#add -1 and 1 so the bins will take on bins to be equal and set to max -1 and 1\n",
    "#extrema = pd.Series([-1,1])\n",
    "#ewnlabels = ewlabels.append(extrema)\n",
    "\n",
    "#make a new output (bucket by percentage?)\n",
    "# enc = KBinsDiscretizer(n_bins=8, encode='ordinal',strategy = 'uniform')\n",
    "# ewnlabels = np.asarray(ewnlabels)\n",
    "# ewnlabels = ewnlabels.reshape((-1,1))\n",
    "# labels_binned = enc.fit_transform(ewnlabels)\n",
    "\n",
    "# labels_binned = labels_binned[:-2]\n",
    "\n",
    "#1 Split-Timer series data, 0.64 Train, 0.16 dev, 0.2 Test\n",
    "#x_train, x_test, y_train, y_test = train_test_split(df, labels_binned, test_size = 0.2, shuffle = False)\n",
    "x_train, x_test, y_train, y_test = train_test_split(df, ewlabels, test_size = 0.2, shuffle = False)\n",
    "x_train, x_dev, y_train, y_dev = train_test_split(x_train, y_train, test_size = 0.2, shuffle = False)"
   ]
  },
  {
   "cell_type": "code",
   "execution_count": 29,
   "metadata": {
    "scrolled": true
   },
   "outputs": [],
   "source": [
    "def get_dates(x_train, x_dev, x_test):\n",
    "    train_dates = [datetime(year=int(x[0:4]), month=int(x[4:6]), day=int(x[6:8])) for x in x_train['public_date']] \n",
    "    dev_dates = [datetime(year=int(x[0:4]), month=int(x[4:6]), day=int(x[6:8])) for x in x_dev['public_date']]\n",
    "    test_dates = [datetime(year=int(x[0:4]), month=int(x[4:6]), day=int(x[6:8])) for x in x_test['public_date']]\n",
    "    \n",
    "    x_train = x_train.drop('public_date', axis=1)\n",
    "    x_dev = x_dev.drop('public_date', axis=1)\n",
    "    x_test = x_test.drop('public_date', axis=1)\n",
    "    \n",
    "    return train_dates, dev_dates, test_dates, x_train, x_dev, x_test\n",
    "\n",
    "train_dates, dev_dates, test_dates, x_train, x_dev, x_test = get_dates(x_train, x_dev, x_test)"
   ]
  },
  {
   "cell_type": "code",
   "execution_count": 4,
   "metadata": {},
   "outputs": [
    {
     "data": {
      "text/plain": [
       "<Figure size 600x600 with 1 Axes>"
      ]
     },
     "metadata": {},
     "output_type": "display_data"
    }
   ],
   "source": [
    "from matplotlib import pyplot\n",
    "\n",
    "fig1 = pyplot.figure(1, figsize = (6,6))\n",
    "pyplot.plot(train_dates, y_train, color = 'green', label = 'industry_ew_train')\n",
    "pyplot.plot(dev_dates, y_dev, color = 'yellow', label = 'industry_ew_dev')\n",
    "pyplot.plot(test_dates, y_test, color = 'red', label = 'industry_ew_test')\n",
    "pyplot.xlabel('Date')\n",
    "pyplot.ylabel('Industry Return (Equally Weighted)')\n",
    "pyplot.legend()\n",
    "pyplot.show()"
   ]
  },
  {
   "cell_type": "code",
   "execution_count": 30,
   "metadata": {
    "scrolled": true
   },
   "outputs": [
    {
     "name": "stderr",
     "output_type": "stream",
     "text": [
      "/home/klchou/.local/lib/python3.6/site-packages/ipykernel_launcher.py:14: UserWarning: Update your `Dense` call to the Keras 2 API: `Dense(32, input_dim=76, activation=\"relu\", kernel_initializer=\"uniform\")`\n",
      "  \n",
      "/home/klchou/.local/lib/python3.6/site-packages/ipykernel_launcher.py:15: UserWarning: Update your `Dense` call to the Keras 2 API: `Dense(16, activation=\"relu\", kernel_initializer=\"uniform\")`\n",
      "  from ipykernel import kernelapp as app\n",
      "/home/klchou/.local/lib/python3.6/site-packages/ipykernel_launcher.py:16: UserWarning: Update your `Dense` call to the Keras 2 API: `Dense(1, activation=\"sigmoid\", kernel_initializer=\"uniform\")`\n",
      "  app.launch_new_instance()\n"
     ]
    },
    {
     "ename": "NameError",
     "evalue": "name 'x_tra' is not defined",
     "output_type": "error",
     "traceback": [
      "\u001b[0;31m---------------------------------------------------------------------------\u001b[0m",
      "\u001b[0;31mNameError\u001b[0m                                 Traceback (most recent call last)",
      "\u001b[0;32m<ipython-input-30-2478b1ee21da>\u001b[0m in \u001b[0;36m<module>\u001b[0;34m()\u001b[0m\n\u001b[1;32m     18\u001b[0m \u001b[0;31m# For a binary classification problem\u001b[0m\u001b[0;34m\u001b[0m\u001b[0;34m\u001b[0m\u001b[0m\n\u001b[1;32m     19\u001b[0m \u001b[0mmodel\u001b[0m\u001b[0;34m.\u001b[0m\u001b[0mcompile\u001b[0m\u001b[0;34m(\u001b[0m\u001b[0mloss\u001b[0m\u001b[0;34m=\u001b[0m\u001b[0;34m'binary_crossentropy'\u001b[0m\u001b[0;34m,\u001b[0m \u001b[0moptimizer\u001b[0m\u001b[0;34m=\u001b[0m\u001b[0;34m'adam'\u001b[0m\u001b[0;34m,\u001b[0m \u001b[0mmetrics\u001b[0m\u001b[0;34m=\u001b[0m\u001b[0;34m[\u001b[0m\u001b[0;34m'accuracy'\u001b[0m\u001b[0;34m]\u001b[0m\u001b[0;34m)\u001b[0m\u001b[0;34m\u001b[0m\u001b[0m\n\u001b[0;32m---> 20\u001b[0;31m \u001b[0mmodel\u001b[0m\u001b[0;34m.\u001b[0m\u001b[0mfit\u001b[0m\u001b[0;34m(\u001b[0m\u001b[0mx_tra\u001b[0m\u001b[0;34m,\u001b[0m \u001b[0my_tra\u001b[0m\u001b[0;34m,\u001b[0m \u001b[0mepochs\u001b[0m\u001b[0;34m=\u001b[0m\u001b[0;36m25\u001b[0m\u001b[0;34m,\u001b[0m \u001b[0mbatch_size\u001b[0m\u001b[0;34m=\u001b[0m\u001b[0;36m32\u001b[0m\u001b[0;34m)\u001b[0m\u001b[0;34m\u001b[0m\u001b[0m\n\u001b[0m\u001b[1;32m     21\u001b[0m \u001b[0;34m\u001b[0m\u001b[0m\n\u001b[1;32m     22\u001b[0m \u001b[0;34m\u001b[0m\u001b[0m\n",
      "\u001b[0;31mNameError\u001b[0m: name 'x_tra' is not defined"
     ]
    }
   ],
   "source": [
    "#tutorial keras practice\n",
    "#https://machinelearningmastery.com/tutorial-first-neural-network-python-keras/\n",
    "\n",
    "\n",
    "#####IGNORE THIS!!!!!!!!\n",
    "from keras.models import Sequential\n",
    "from keras.layers import Dense, Activation,Softmax\n",
    "from keras.optimizers import SGD\n",
    "from sklearn.metrics import mean_squared_error\n",
    "import numpy\n",
    "\n",
    "model = Sequential()\n",
    "#parameters = number of neurons, initialization method, activation function\n",
    "model.add(Dense(32, input_dim=76, init = 'uniform', activation = 'relu'))\n",
    "model.add(Dense(16, init = 'uniform', activation = 'relu'))\n",
    "model.add(Dense(1, init = 'uniform', activation = 'sigmoid'))\n",
    "\n",
    "# For a binary classification problem\n",
    "model.compile(loss='binary_crossentropy', optimizer='adam', metrics=['accuracy'])\n",
    "model.fit(x_tra, y_tra, epochs=25, batch_size=32)\n",
    "\n",
    "\n",
    "print(\"----------------------------------------------------------\")\n",
    "scores = model.evaluate(x_tra,y_tra)\n",
    "print(\"\\n%s: %.2f%%\" % (model.metrics_names[1], scores[1]*100))\n",
    "\n",
    "print(\"XXXXXXXXXXXXXXXXXXXXXXXXXXXXXXXXXXXXXXXXXXXXXXXXXXXXXXXXXX\")\n",
    "\n",
    "y_devpred = model.predict(x_dev)\n",
    "print(\"--------------------------------------------\")\n",
    "print(mean_squared_error(y_dev,y_devpred))"
   ]
  },
  {
   "cell_type": "code",
   "execution_count": 31,
   "metadata": {
    "scrolled": false
   },
   "outputs": [
    {
     "name": "stdout",
     "output_type": "stream",
     "text": [
      "Epoch 1/50\n",
      "14564/14564 [==============================] - 1s 49us/step - loss: 1.2760 - mean_squared_error: 1.2760 - mean_absolute_error: 0.2965 - mean_absolute_percentage_error: 198434.7484 - cosine_proximity: -0.0104\n",
      "Epoch 2/50\n",
      "14564/14564 [==============================] - 0s 34us/step - loss: 0.0087 - mean_squared_error: 0.0087 - mean_absolute_error: 0.0704 - mean_absolute_percentage_error: 27135.7539 - cosine_proximity: -0.0414\n",
      "Epoch 3/50\n",
      "14564/14564 [==============================] - 0s 32us/step - loss: 0.0124 - mean_squared_error: 0.0124 - mean_absolute_error: 0.0831 - mean_absolute_percentage_error: 27035.2996 - cosine_proximity: -0.0281\n",
      "Epoch 4/50\n",
      "14564/14564 [==============================] - 0s 31us/step - loss: 0.0433 - mean_squared_error: 0.0433 - mean_absolute_error: 0.1325 - mean_absolute_percentage_error: 47520.8747 - cosine_proximity: -0.0392\n",
      "Epoch 5/50\n",
      "14564/14564 [==============================] - 0s 31us/step - loss: 0.1101 - mean_squared_error: 0.1101 - mean_absolute_error: 0.1562 - mean_absolute_percentage_error: 94492.2759 - cosine_proximity: -0.0337\n",
      "Epoch 6/50\n",
      "14564/14564 [==============================] - 0s 30us/step - loss: 0.0534 - mean_squared_error: 0.0534 - mean_absolute_error: 0.1456 - mean_absolute_percentage_error: 63058.6543 - cosine_proximity: -0.0267\n",
      "Epoch 7/50\n",
      "14564/14564 [==============================] - 0s 30us/step - loss: 0.0528 - mean_squared_error: 0.0528 - mean_absolute_error: 0.1390 - mean_absolute_percentage_error: 59838.4661 - cosine_proximity: -0.0509\n",
      "Epoch 8/50\n",
      "14564/14564 [==============================] - 0s 31us/step - loss: 0.0724 - mean_squared_error: 0.0724 - mean_absolute_error: 0.1707 - mean_absolute_percentage_error: 62824.5342 - cosine_proximity: -0.0376\n",
      "Epoch 9/50\n",
      "14564/14564 [==============================] - 0s 30us/step - loss: 0.0538 - mean_squared_error: 0.0538 - mean_absolute_error: 0.1510 - mean_absolute_percentage_error: 81688.5507 - cosine_proximity: -0.0156\n",
      "Epoch 10/50\n",
      "14564/14564 [==============================] - 0s 31us/step - loss: 0.0470 - mean_squared_error: 0.0470 - mean_absolute_error: 0.1315 - mean_absolute_percentage_error: 98907.9742 - cosine_proximity: -0.0257\n",
      "Epoch 11/50\n",
      "14564/14564 [==============================] - 0s 32us/step - loss: 0.0254 - mean_squared_error: 0.0254 - mean_absolute_error: 0.1004 - mean_absolute_percentage_error: 29875.7909 - cosine_proximity: -0.0360\n",
      "Epoch 12/50\n",
      "14564/14564 [==============================] - 0s 32us/step - loss: 0.0219 - mean_squared_error: 0.0219 - mean_absolute_error: 0.1053 - mean_absolute_percentage_error: 43986.1669 - cosine_proximity: -0.0457\n",
      "Epoch 13/50\n",
      "14564/14564 [==============================] - 0s 33us/step - loss: 0.0306 - mean_squared_error: 0.0306 - mean_absolute_error: 0.1207 - mean_absolute_percentage_error: 33827.1520 - cosine_proximity: -0.0402\n",
      "Epoch 14/50\n",
      "14564/14564 [==============================] - 1s 34us/step - loss: 0.0157 - mean_squared_error: 0.0157 - mean_absolute_error: 0.0939 - mean_absolute_percentage_error: 46924.0927 - cosine_proximity: -0.0340\n",
      "Epoch 15/50\n",
      "14564/14564 [==============================] - 0s 33us/step - loss: 0.0157 - mean_squared_error: 0.0157 - mean_absolute_error: 0.0933 - mean_absolute_percentage_error: 37167.4719 - cosine_proximity: -0.0358\n",
      "Epoch 16/50\n",
      "14564/14564 [==============================] - 0s 33us/step - loss: 0.0163 - mean_squared_error: 0.0163 - mean_absolute_error: 0.0931 - mean_absolute_percentage_error: 42982.8141 - cosine_proximity: -0.0391\n",
      "Epoch 17/50\n",
      "14564/14564 [==============================] - 0s 33us/step - loss: 0.0146 - mean_squared_error: 0.0146 - mean_absolute_error: 0.0908 - mean_absolute_percentage_error: 37609.7508 - cosine_proximity: -0.0481\n",
      "Epoch 18/50\n",
      "14564/14564 [==============================] - 0s 32us/step - loss: 0.0151 - mean_squared_error: 0.0151 - mean_absolute_error: 0.0896 - mean_absolute_percentage_error: 38069.0804 - cosine_proximity: -0.0412\n",
      "Epoch 19/50\n",
      "14564/14564 [==============================] - 0s 34us/step - loss: 0.0120 - mean_squared_error: 0.0120 - mean_absolute_error: 0.0798 - mean_absolute_percentage_error: 24159.9225 - cosine_proximity: -0.0527\n",
      "Epoch 20/50\n",
      "14564/14564 [==============================] - 0s 33us/step - loss: 0.0098 - mean_squared_error: 0.0098 - mean_absolute_error: 0.0759 - mean_absolute_percentage_error: 46820.7172 - cosine_proximity: -0.0411\n",
      "Epoch 21/50\n",
      "14564/14564 [==============================] - 0s 31us/step - loss: 0.0091 - mean_squared_error: 0.0091 - mean_absolute_error: 0.0716 - mean_absolute_percentage_error: 24137.4276 - cosine_proximity: -0.0555\n",
      "Epoch 22/50\n",
      "14564/14564 [==============================] - 0s 33us/step - loss: 0.0069 - mean_squared_error: 0.0069 - mean_absolute_error: 0.0635 - mean_absolute_percentage_error: 15840.7349 - cosine_proximity: -0.0701\n",
      "Epoch 23/50\n",
      "14564/14564 [==============================] - 0s 31us/step - loss: 0.0068 - mean_squared_error: 0.0068 - mean_absolute_error: 0.0631 - mean_absolute_percentage_error: 17256.1226 - cosine_proximity: -0.0626\n",
      "Epoch 24/50\n",
      "14564/14564 [==============================] - 0s 33us/step - loss: 0.0068 - mean_squared_error: 0.0068 - mean_absolute_error: 0.0632 - mean_absolute_percentage_error: 25936.3416 - cosine_proximity: -0.0641\n",
      "Epoch 25/50\n",
      "14564/14564 [==============================] - 0s 33us/step - loss: 0.0058 - mean_squared_error: 0.0058 - mean_absolute_error: 0.0573 - mean_absolute_percentage_error: 18986.6726 - cosine_proximity: -0.0820\n",
      "Epoch 26/50\n",
      "14564/14564 [==============================] - 1s 40us/step - loss: 0.0056 - mean_squared_error: 0.0056 - mean_absolute_error: 0.0562 - mean_absolute_percentage_error: 9402.7786 - cosine_proximity: -0.0891\n",
      "Epoch 27/50\n",
      "14564/14564 [==============================] - 1s 40us/step - loss: 0.0055 - mean_squared_error: 0.0055 - mean_absolute_error: 0.0556 - mean_absolute_percentage_error: 13211.7857 - cosine_proximity: -0.1036\n",
      "Epoch 28/50\n",
      "14564/14564 [==============================] - 1s 43us/step - loss: 0.0052 - mean_squared_error: 0.0052 - mean_absolute_error: 0.0536 - mean_absolute_percentage_error: 15564.9645 - cosine_proximity: -0.1226\n",
      "Epoch 29/50\n",
      "14564/14564 [==============================] - 1s 41us/step - loss: 0.0050 - mean_squared_error: 0.0050 - mean_absolute_error: 0.0524 - mean_absolute_percentage_error: 9407.6940 - cosine_proximity: -0.1554\n",
      "Epoch 30/50\n",
      "14564/14564 [==============================] - 1s 41us/step - loss: 0.0050 - mean_squared_error: 0.0050 - mean_absolute_error: 0.0523 - mean_absolute_percentage_error: 9941.6038 - cosine_proximity: -0.1607\n",
      "Epoch 31/50\n",
      "14564/14564 [==============================] - 1s 41us/step - loss: 0.0050 - mean_squared_error: 0.0050 - mean_absolute_error: 0.0522 - mean_absolute_percentage_error: 9864.8784 - cosine_proximity: -0.1657\n",
      "Epoch 32/50\n",
      "14564/14564 [==============================] - 1s 43us/step - loss: 0.0050 - mean_squared_error: 0.0050 - mean_absolute_error: 0.0522 - mean_absolute_percentage_error: 9470.7412 - cosine_proximity: -0.1642\n",
      "Epoch 33/50\n",
      "14564/14564 [==============================] - 1s 42us/step - loss: 0.0050 - mean_squared_error: 0.0050 - mean_absolute_error: 0.0522 - mean_absolute_percentage_error: 9671.8848 - cosine_proximity: -0.1625\n",
      "Epoch 34/50\n",
      "14564/14564 [==============================] - 1s 44us/step - loss: 0.0050 - mean_squared_error: 0.0050 - mean_absolute_error: 0.0522 - mean_absolute_percentage_error: 11565.7968 - cosine_proximity: -0.1647\n",
      "Epoch 35/50\n",
      "14564/14564 [==============================] - 1s 42us/step - loss: 0.0050 - mean_squared_error: 0.0050 - mean_absolute_error: 0.0521 - mean_absolute_percentage_error: 8912.2860 - cosine_proximity: -0.1651\n",
      "Epoch 36/50\n",
      "14564/14564 [==============================] - 1s 41us/step - loss: 0.0050 - mean_squared_error: 0.0050 - mean_absolute_error: 0.0521 - mean_absolute_percentage_error: 10262.8537 - cosine_proximity: -0.1668\n",
      "Epoch 37/50\n",
      "14564/14564 [==============================] - 1s 41us/step - loss: 0.0050 - mean_squared_error: 0.0050 - mean_absolute_error: 0.0521 - mean_absolute_percentage_error: 10548.8876 - cosine_proximity: -0.1649\n",
      "Epoch 38/50\n"
     ]
    },
    {
     "name": "stdout",
     "output_type": "stream",
     "text": [
      "14564/14564 [==============================] - 1s 40us/step - loss: 0.0050 - mean_squared_error: 0.0050 - mean_absolute_error: 0.0521 - mean_absolute_percentage_error: 9269.8674 - cosine_proximity: -0.1642\n",
      "Epoch 39/50\n",
      "14564/14564 [==============================] - 1s 39us/step - loss: 0.0050 - mean_squared_error: 0.0050 - mean_absolute_error: 0.0521 - mean_absolute_percentage_error: 9478.8068 - cosine_proximity: -0.1690\n",
      "Epoch 40/50\n",
      "14564/14564 [==============================] - 1s 37us/step - loss: 0.0050 - mean_squared_error: 0.0050 - mean_absolute_error: 0.0521 - mean_absolute_percentage_error: 9784.1408 - cosine_proximity: -0.1695\n",
      "Epoch 41/50\n",
      "14564/14564 [==============================] - 1s 38us/step - loss: 0.0050 - mean_squared_error: 0.0050 - mean_absolute_error: 0.0521 - mean_absolute_percentage_error: 10564.7968 - cosine_proximity: -0.1660\n",
      "Epoch 42/50\n",
      "14564/14564 [==============================] - 1s 39us/step - loss: 0.0050 - mean_squared_error: 0.0050 - mean_absolute_error: 0.0521 - mean_absolute_percentage_error: 10303.6056 - cosine_proximity: -0.1654\n",
      "Epoch 43/50\n",
      "14564/14564 [==============================] - 1s 38us/step - loss: 0.0050 - mean_squared_error: 0.0050 - mean_absolute_error: 0.0520 - mean_absolute_percentage_error: 9552.2824 - cosine_proximity: -0.1676\n",
      "Epoch 44/50\n",
      "14564/14564 [==============================] - 1s 38us/step - loss: 0.0050 - mean_squared_error: 0.0050 - mean_absolute_error: 0.0521 - mean_absolute_percentage_error: 10340.8920 - cosine_proximity: -0.1676\n",
      "Epoch 45/50\n",
      "14564/14564 [==============================] - 1s 39us/step - loss: 0.0050 - mean_squared_error: 0.0050 - mean_absolute_error: 0.0521 - mean_absolute_percentage_error: 9857.0211 - cosine_proximity: -0.1662\n",
      "Epoch 46/50\n",
      "14564/14564 [==============================] - 1s 39us/step - loss: 0.0050 - mean_squared_error: 0.0050 - mean_absolute_error: 0.0521 - mean_absolute_percentage_error: 9868.8098 - cosine_proximity: -0.1635\n",
      "Epoch 47/50\n",
      "14564/14564 [==============================] - 1s 37us/step - loss: 0.0050 - mean_squared_error: 0.0050 - mean_absolute_error: 0.0522 - mean_absolute_percentage_error: 9152.1343 - cosine_proximity: -0.1647\n",
      "Epoch 48/50\n",
      "14564/14564 [==============================] - 1s 39us/step - loss: 0.0050 - mean_squared_error: 0.0050 - mean_absolute_error: 0.0522 - mean_absolute_percentage_error: 9453.2343 - cosine_proximity: -0.1642\n",
      "Epoch 49/50\n",
      "14564/14564 [==============================] - 1s 40us/step - loss: 0.0050 - mean_squared_error: 0.0050 - mean_absolute_error: 0.0522 - mean_absolute_percentage_error: 10498.0071 - cosine_proximity: -0.1660\n",
      "Epoch 50/50\n",
      "14564/14564 [==============================] - 1s 39us/step - loss: 0.0050 - mean_squared_error: 0.0050 - mean_absolute_error: 0.0522 - mean_absolute_percentage_error: 9557.2266 - cosine_proximity: -0.1639\n"
     ]
    },
    {
     "data": {
      "image/png": "[encoded data removed]",
      "text/plain": [
       "<Figure size 720x720 with 1 Axes>"
      ]
     },
     "metadata": {},
     "output_type": "display_data"
    },
    {
     "name": "stdout",
     "output_type": "stream",
     "text": [
      "----------------------------------------------------------\n",
      "3641/3641 [==============================] - 0s 43us/step\n",
      "\n",
      "loss: 0.26%\n",
      "\n",
      "mean_squared_error: 0.26%\n",
      "\n",
      "mean_absolute_error: 0.06%\n",
      "\n",
      "mean_absolute_percentage_error: 3852.05%\n",
      "\n",
      "cosine_proximity: -0.18%\n"
     ]
    },
    {
     "data": {
      "image/png": "[encoded data removed]",
      "text/plain": [
       "<Figure size 720x720 with 1 Axes>"
      ]
     },
     "metadata": {},
     "output_type": "display_data"
    },
    {
     "name": "stdout",
     "output_type": "stream",
     "text": [
      "XXXXXXXXXXXXXXXXXXXXXXXXXXXXXXXXXXXXXXXXXXXXXXXXXXXXXXXXXXXX\n",
      "4552/4552 [==============================] - 0s 16us/step\n",
      "\n",
      "loss: nan%\n",
      "\n",
      "mean_squared_error: nan%\n",
      "\n",
      "mean_absolute_error: nan%\n",
      "\n",
      "mean_absolute_percentage_error: nan%\n",
      "\n",
      "cosine_proximity: nan%\n"
     ]
    },
    {
     "data": {
      "image/png": "[encoded data removed]",
      "text/plain": [
       "<Figure size 720x720 with 1 Axes>"
      ]
     },
     "metadata": {},
     "output_type": "display_data"
    }
   ],
   "source": [
    "#Regression Model:\n",
    "#1 Layer: 76 -> 12.78% and 15.28%\n",
    "#2 Layer: 76,1 -> 0.40% and 0.48%\n",
    "#3 Layers: 76, 32, 1 -> 0% and 65%\n",
    "#4 layers: 76,48,32,1 + adam +  -> 60.52% and 56.70%\n",
    "#4 Layers: 76,32,16,1 -> 61.33% and 57.18%\n",
    "#4 Layers: 76,32,8,1 -> 0%\n",
    "#4 layers: 76,48,8,1 -> 0%\n",
    "#6 layers: 76,48,32,16,8,1 -> 20% and 0%\n",
    "\n",
    "import pandas\n",
    "from keras.models import Sequential\n",
    "from keras.layers import Dense\n",
    "from keras.wrappers.scikit_learn import KerasRegressor\n",
    "from sklearn.model_selection import cross_val_score\n",
    "from sklearn.model_selection import KFold\n",
    "from sklearn.preprocessing import StandardScaler\n",
    "from sklearn.pipeline import Pipeline\n",
    "from matplotlib import pyplot\n",
    "import seaborn as sns\n",
    "\n",
    "\n",
    "model = Sequential()\n",
    "#parameters = number of neurons, initialization method, activation function\n",
    "model.add(Dense(72, input_dim=x_train.shape[1], kernel_initializer='normal', activation='relu'))\n",
    "#model.add(Dense(48, kernel_initializer='normal',activation = 'relu'))\n",
    "model.add(Dense(32, kernel_initializer='normal',activation = 'relu'))\n",
    "#model.add(Dense(16, kernel_initializer='normal',activation = 'relu'))\n",
    "#model.add(Dense(8, kernel_initializer='normal',activation = 'relu'))\n",
    "model.add(Dense(1, kernel_initializer='normal', activation = 'linear'))\n",
    "    \n",
    "# Compile model\n",
    "#opt = Adam(lr=0.002, beta_1=0.9, beta_2=0.999, epsilon=1e-08)\n",
    "#model.compile(loss='mean_squared_error', optimizer=opt, metrics=['accuracy'])\n",
    "#model.compile(loss='mean_squared_error', optimizer='adam', metrics=['accuracy'])\n",
    "model.compile(loss='mse', optimizer='adam', metrics=['mse', 'mae', 'mape', 'cosine'])\n",
    "history = model.fit(np.asarray(x_train), y_train, epochs=50)\n",
    "\n",
    "fig2 = pyplot.figure(2,figsize = (10,10))\n",
    "pyplot.plot(history.history['mean_squared_error'], color = 'blue')\n",
    "pyplot.plot(history.history['mean_absolute_error'], color = 'green')\n",
    "pyplot.plot(history.history['mean_absolute_percentage_error'], color = 'orange')\n",
    "pyplot.plot(history.history['cosine_proximity'], color = 'red')\n",
    "pyplot.ylim(-10,10)\n",
    "pyplot.show()\n",
    "\n",
    "#dev set\n",
    "print(\"----------------------------------------------------------\")\n",
    "dev_predictions = model.predict(x_dev) \n",
    "scores = model.evaluate(np.asarray(x_dev),y_dev)\n",
    "for i in range(len(scores)):\n",
    "    print(\"\\n%s: %.2f%%\" % (model.metrics_names[i], scores[i]))\n",
    "\n",
    "fig3 = pyplot.figure(3, figsize = (10,10))\n",
    "pyplot.plot(dev_dates, y_dev, color = 'green')\n",
    "pyplot.plot(dev_dates, dev_predictions, color = 'red')\n",
    "pyplot.show()\n",
    "\n",
    "#test set\n",
    "print(\"XXXXXXXXXXXXXXXXXXXXXXXXXXXXXXXXXXXXXXXXXXXXXXXXXXXXXXXXXXXX\")\n",
    "test_predictions = model.predict(x_test).reshape((-1))\n",
    "scores = model.evaluate(np.asarray(x_test),y_test)\n",
    "for i in range(len(scores)):\n",
    "    print(\"\\n%s: %.2f%%\" % (model.metrics_names[i], scores[i]))\n",
    "\n",
    "fig4 = pyplot.figure(4, figsize = (10,10))\n",
    "pyplot.plot(test_dates, y_test, color = 'green')\n",
    "pyplot.plot(test_dates, test_predictions, color = 'red')\n",
    "pyplot.show()"
   ]
  },
  {
   "cell_type": "code",
   "execution_count": 30,
   "metadata": {
    "scrolled": true
   },
   "outputs": [
    {
     "name": "stderr",
     "output_type": "stream",
     "text": [
      "/home/klchou/.local/lib/python3.6/site-packages/ipykernel_launcher.py:8: UserWarning: Update your `Dense` call to the Keras 2 API: `Dense(32, input_dim=72, activation=\"relu\", kernel_initializer=\"uniform\")`\n",
      "  \n",
      "/home/klchou/.local/lib/python3.6/site-packages/ipykernel_launcher.py:9: UserWarning: Update your `Dense` call to the Keras 2 API: `Dense(16, activation=\"relu\", kernel_initializer=\"uniform\")`\n",
      "  if __name__ == '__main__':\n",
      "/home/klchou/.local/lib/python3.6/site-packages/ipykernel_launcher.py:10: UserWarning: Update your `Dense` call to the Keras 2 API: `Dense(8, activation=\"softmax\", kernel_initializer=\"uniform\")`\n",
      "  # Remove the CWD from sys.path while we load stuff.\n"
     ]
    },
    {
     "ename": "ValueError",
     "evalue": "Error when checking target: expected dense_33 to have shape (8,) but got array with shape (1,)",
     "output_type": "error",
     "traceback": [
      "\u001b[0;31m---------------------------------------------------------------------------\u001b[0m",
      "\u001b[0;31mValueError\u001b[0m                                Traceback (most recent call last)",
      "\u001b[0;32m<ipython-input-30-4e068c698de2>\u001b[0m in \u001b[0;36m<module>\u001b[0;34m()\u001b[0m\n\u001b[1;32m     14\u001b[0m               \u001b[0mloss\u001b[0m\u001b[0;34m=\u001b[0m\u001b[0;34m'categorical_crossentropy'\u001b[0m\u001b[0;34m,\u001b[0m\u001b[0;34m\u001b[0m\u001b[0m\n\u001b[1;32m     15\u001b[0m               metrics=['accuracy'])\n\u001b[0;32m---> 16\u001b[0;31m \u001b[0mmodel\u001b[0m\u001b[0;34m.\u001b[0m\u001b[0mfit\u001b[0m\u001b[0;34m(\u001b[0m\u001b[0mx_train\u001b[0m\u001b[0;34m,\u001b[0m \u001b[0my_train\u001b[0m\u001b[0;34m,\u001b[0m \u001b[0mepochs\u001b[0m\u001b[0;34m=\u001b[0m\u001b[0;36m25\u001b[0m\u001b[0;34m,\u001b[0m \u001b[0mbatch_size\u001b[0m\u001b[0;34m=\u001b[0m\u001b[0;36m32\u001b[0m\u001b[0;34m)\u001b[0m\u001b[0;34m\u001b[0m\u001b[0m\n\u001b[0m\u001b[1;32m     17\u001b[0m \u001b[0;34m\u001b[0m\u001b[0m\n\u001b[1;32m     18\u001b[0m \u001b[0;34m\u001b[0m\u001b[0m\n",
      "\u001b[0;32m~/.local/lib/python3.6/site-packages/keras/engine/training.py\u001b[0m in \u001b[0;36mfit\u001b[0;34m(self, x, y, batch_size, epochs, verbose, callbacks, validation_split, validation_data, shuffle, class_weight, sample_weight, initial_epoch, steps_per_epoch, validation_steps, **kwargs)\u001b[0m\n\u001b[1;32m    950\u001b[0m             \u001b[0msample_weight\u001b[0m\u001b[0;34m=\u001b[0m\u001b[0msample_weight\u001b[0m\u001b[0;34m,\u001b[0m\u001b[0;34m\u001b[0m\u001b[0m\n\u001b[1;32m    951\u001b[0m             \u001b[0mclass_weight\u001b[0m\u001b[0;34m=\u001b[0m\u001b[0mclass_weight\u001b[0m\u001b[0;34m,\u001b[0m\u001b[0;34m\u001b[0m\u001b[0m\n\u001b[0;32m--> 952\u001b[0;31m             batch_size=batch_size)\n\u001b[0m\u001b[1;32m    953\u001b[0m         \u001b[0;31m# Prepare validation data.\u001b[0m\u001b[0;34m\u001b[0m\u001b[0;34m\u001b[0m\u001b[0m\n\u001b[1;32m    954\u001b[0m         \u001b[0mdo_validation\u001b[0m \u001b[0;34m=\u001b[0m \u001b[0;32mFalse\u001b[0m\u001b[0;34m\u001b[0m\u001b[0m\n",
      "\u001b[0;32m~/.local/lib/python3.6/site-packages/keras/engine/training.py\u001b[0m in \u001b[0;36m_standardize_user_data\u001b[0;34m(self, x, y, sample_weight, class_weight, check_array_lengths, batch_size)\u001b[0m\n\u001b[1;32m    787\u001b[0m                 \u001b[0mfeed_output_shapes\u001b[0m\u001b[0;34m,\u001b[0m\u001b[0;34m\u001b[0m\u001b[0m\n\u001b[1;32m    788\u001b[0m                 \u001b[0mcheck_batch_axis\u001b[0m\u001b[0;34m=\u001b[0m\u001b[0;32mFalse\u001b[0m\u001b[0;34m,\u001b[0m  \u001b[0;31m# Don't enforce the batch size.\u001b[0m\u001b[0;34m\u001b[0m\u001b[0m\n\u001b[0;32m--> 789\u001b[0;31m                 exception_prefix='target')\n\u001b[0m\u001b[1;32m    790\u001b[0m \u001b[0;34m\u001b[0m\u001b[0m\n\u001b[1;32m    791\u001b[0m             \u001b[0;31m# Generate sample-wise weight values given the `sample_weight` and\u001b[0m\u001b[0;34m\u001b[0m\u001b[0;34m\u001b[0m\u001b[0m\n",
      "\u001b[0;32m~/.local/lib/python3.6/site-packages/keras/engine/training_utils.py\u001b[0m in \u001b[0;36mstandardize_input_data\u001b[0;34m(data, names, shapes, check_batch_axis, exception_prefix)\u001b[0m\n\u001b[1;32m    136\u001b[0m                             \u001b[0;34m': expected '\u001b[0m \u001b[0;34m+\u001b[0m \u001b[0mnames\u001b[0m\u001b[0;34m[\u001b[0m\u001b[0mi\u001b[0m\u001b[0;34m]\u001b[0m \u001b[0;34m+\u001b[0m \u001b[0;34m' to have shape '\u001b[0m \u001b[0;34m+\u001b[0m\u001b[0;34m\u001b[0m\u001b[0m\n\u001b[1;32m    137\u001b[0m                             \u001b[0mstr\u001b[0m\u001b[0;34m(\u001b[0m\u001b[0mshape\u001b[0m\u001b[0;34m)\u001b[0m \u001b[0;34m+\u001b[0m \u001b[0;34m' but got array with shape '\u001b[0m \u001b[0;34m+\u001b[0m\u001b[0;34m\u001b[0m\u001b[0m\n\u001b[0;32m--> 138\u001b[0;31m                             str(data_shape))\n\u001b[0m\u001b[1;32m    139\u001b[0m     \u001b[0;32mreturn\u001b[0m \u001b[0mdata\u001b[0m\u001b[0;34m\u001b[0m\u001b[0m\n\u001b[1;32m    140\u001b[0m \u001b[0;34m\u001b[0m\u001b[0m\n",
      "\u001b[0;31mValueError\u001b[0m: Error when checking target: expected dense_33 to have shape (8,) but got array with shape (1,)"
     ]
    }
   ],
   "source": [
    "from keras.models import Sequential\n",
    "from keras.layers import Dense, Activation\n",
    "from keras.optimizers import SGD\n",
    "from sklearn.metrics import mean_squared_error\n",
    "import numpy\n",
    "\n",
    "model = Sequential()\n",
    "model.add(Dense(32, input_dim=x_train.shape[1], init = 'uniform', activation = 'relu'))\n",
    "model.add(Dense(16, init = 'uniform', activation = 'relu'))\n",
    "model.add(Dense(8, init = 'uniform', activation = 'softmax'))\n",
    "\n",
    "# For a multi-class classification problem\n",
    "model.compile(optimizer='rmsprop',\n",
    "              loss='categorical_crossentropy',\n",
    "              metrics=['accuracy'])\n",
    "model.fit(x_train, y_train, epochs=25, batch_size=32)\n",
    "\n",
    "\n",
    "print(\"----------------------------------------------------------\")\n",
    "scores = model.evaluate(x_train,y_train)\n",
    "print(\"\\n%s: %.2f%%\" % (model.metrics_names[1], scores[1]*100))\n",
    "\n",
    "print(\"XXXXXXXXXXXXXXXXXXXXXXXXXXXXXXXXXXXXXXXXXXXXXXXXXXXXXXXXXX\")\n",
    "y_devpred = model.predict(x_dev)\n",
    "print(\"--------------------------------------------\")\n",
    "print(mean_squared_error(y_dev,y_devpred))"
   ]
  },
  {
   "cell_type": "code",
   "execution_count": null,
   "metadata": {
    "scrolled": false
   },
   "outputs": [],
   "source": [
    "from keras.models import Sequential\n",
    "from keras.layers import Dense, Activation,Softmax\n",
    "from keras.optimizers import SGD\n",
    "\n",
    "model = Sequential()\n",
    "model.add(Dense(32, input_shape = (x_train.shape)))\n",
    "model.add(Dense(64, activation='relu'))\n",
    "model.add(Dense(10, activation='softmax'))\n",
    "\n",
    "# For a multi-class classification problem\n",
    "model.compile(optimizer='rmsprop',\n",
    "              loss='categorical_crossentropy',\n",
    "              metrics=['accuracy'])\n",
    "\n",
    "# For a binary classification problem\n",
    "model.compile(optimizer='rmsprop',\n",
    "              loss='binary_crossentropy',\n",
    "              metrics=['accuracy'])\n",
    "\n",
    "# For a mean squared error regression problem\n",
    "model.compile(optimizer='rmsprop',\n",
    "              loss='mse')\n",
    "\n",
    "model.fit(x_train, y_train, epochs=5, batch_size=32)\n",
    "y_devpred = model.predict(x_dev)\n",
    "print(\"--------------------------------------------\")\n",
    "print(mean_squared_error(y_dev,y_devpred))\n"
   ]
  }
 ],
 "metadata": {
  "kernelspec": {
   "display_name": "Python 3",
   "language": "python",
   "name": "python3"
  },
  "language_info": {
   "codemirror_mode": {
    "name": "ipython",
    "version": 3
   },
   "file_extension": ".py",
   "mimetype": "text/x-python",
   "name": "python",
   "nbconvert_exporter": "python",
   "pygments_lexer": "ipython3",
   "version": "3.6.5"
  }
 },
 "nbformat": 4,
 "nbformat_minor": 2
}
