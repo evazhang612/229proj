{
 "cells": [
  {
   "cell_type": "code",
   "execution_count": 1,
   "metadata": {},
   "outputs": [],
   "source": [
    "from datetime import datetime\n",
    "\n",
    "import numpy as np\n",
    "import pandas as pd"
   ]
  },
  {
   "cell_type": "code",
   "execution_count": 2,
   "metadata": {},
   "outputs": [],
   "source": [
    "def split_industries():\n",
    "    df = pd.read_csv(FAMA_49CRSP)\n",
    "    \n",
    "    industries = set(df['FFI49_desc'])    \n",
    "    for ind in industries: \n",
    "        df_ind = df[df['FFI49_desc'] == ind]\n",
    "        df_ind = df_ind.drop(labels='FFI49_desc', axis=1)\n",
    "        df_ind.to_csv('industries/{}.csv'.format(ind))\n",
    "        \n",
    "    return industries"
   ]
  },
  {
   "cell_type": "code",
   "execution_count": null,
   "metadata": {},
   "outputs": [],
   "source": []
  }
 ],
 "metadata": {
  "kernelspec": {
   "display_name": "Python 3",
   "language": "python",
   "name": "python3"
  },
  "language_info": {
   "codemirror_mode": {
    "name": "ipython",
    "version": 3
   },
   "file_extension": ".py",
   "mimetype": "text/x-python",
   "name": "python",
   "nbconvert_exporter": "python",
   "pygments_lexer": "ipython3",
   "version": "3.6.5"
  }
 },
 "nbformat": 4,
 "nbformat_minor": 2
}
