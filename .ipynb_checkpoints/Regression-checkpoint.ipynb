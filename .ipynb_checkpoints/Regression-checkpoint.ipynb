{
 "cells": [
  {
   "cell_type": "code",
   "execution_count": 24,
   "metadata": {},
   "outputs": [],
   "source": [
    "import numpy as np\n",
    "import pandas as pd\n",
    "\n",
    "from sklearn import preprocessing \n",
    "from sklearn.preprocessing import KBinsDiscretizer\n",
    "from sklearn.model_selection import train_test_split\n",
    "from sklearn import linear_model\n",
    "from sklearn import metrics\n",
    "from sklearn import svm\n",
    "from sklearn.kernel_ridge import KernelRidge\n",
    "\n",
    "import matplotlib.pyplot as plt\n",
    "\n",
    "FAMA_49CRSP = 'FAMA_49CRSP.csv'"
   ]
  },
  {
   "cell_type": "code",
   "execution_count": 3,
   "metadata": {},
   "outputs": [],
   "source": [
    "# https://keras.io/regularizers/\n",
    "# https://keras.io/callbacks/\n",
    "# https://en.wikipedia.org/wiki/Kriging\n",
    "# https://gist.github.com/stared/dfb4dfaf6d9a8501cd1cc8b8cb806d2e\n",
    "# https://www.tensorflow.org/guide/summaries_and_tensorboard\n",
    "# https://stackoverflow.com/questions/50978117/how-to-plot-loss-curve-in-tensorflow-without-using-tensorboard\n",
    "# https://www.tensorflow.org/api_docs/python/tf/keras/callbacks/Callback\n",
    "# https://www.tensorflow.org/api_docs/python/tf/keras/utils/normalize\n",
    "# https://scikit-learn.org/stable/modules/generated/sklearn.preprocessing.normalize.html\n",
    "# https://datascience.stackexchange.com/questions/989/svm-using-scikit-learn-runs-endlessly-and-never-completes-execution"
   ]
  },
  {
   "cell_type": "code",
   "execution_count": 4,
   "metadata": {},
   "outputs": [],
   "source": [
    "def read_csv(filename, n_ind):\n",
    "    \"\"\"\n",
    "    Read in CSV file of financial ratios and returns a pandas dataframe.\n",
    "    df is sorted by date in ascending order. \n",
    "    \"\"\"\n",
    "    df = pd.read_csv(filename)\n",
    "    df = df.dropna()\n",
    "    df = df.sort_values(by='public_date', ascending=True)\n",
    "    return df"
   ]
  },
  {
   "cell_type": "code",
   "execution_count": 5,
   "metadata": {},
   "outputs": [],
   "source": [
    "def pct_format(col): \n",
    "    temp = [float(x[:-1]) if x is not np.nan else 0 for x in col]\n",
    "    return pd.Series(temp)"
   ]
  },
  {
   "cell_type": "code",
   "execution_count": 6,
   "metadata": {},
   "outputs": [],
   "source": [
    "def write_csv(filename):\n",
    "    \"\"\"\n",
    "    Read in CSV file of financial ratios and returns a pandas dataframe.\n",
    "    Drops empty columns and reformats a str col into a float col. \n",
    "    df is sorted by date in ascending order. \n",
    "    \"\"\"\n",
    "    df = pd.read_csv(filename)\n",
    "    df = df.sort_values(by='public_date', ascending=True)\n",
    "    df['divyield_Median'] = pct_format(df['divyield_Median'])\n",
    "    \n",
    "    df.to_csv('FAMA_49CRSP.csv')"
   ]
  },
  {
   "cell_type": "code",
   "execution_count": 7,
   "metadata": {},
   "outputs": [],
   "source": [
    "# write_csv('ee6d2f60cdafb550.csv')"
   ]
  },
  {
   "cell_type": "code",
   "execution_count": 8,
   "metadata": {},
   "outputs": [],
   "source": [
    "def encode(df, col):\n",
    "    \"\"\"\n",
    "    Takes in pandas dataframe and encodes df.col as numbers. \n",
    "    \"\"\"\n",
    "    encoder = preprocessing.LabelEncoder()\n",
    "    industry_desc_encode = encoder.fit_transform(df[col])\n",
    "    df[col] = industry_desc_encode\n",
    "    return df "
   ]
  },
  {
   "cell_type": "code",
   "execution_count": 9,
   "metadata": {},
   "outputs": [],
   "source": [
    "def calc_rolling_avg(col, n_years):\n",
    "    \"\"\"\n",
    "    3 years rolling percent change, averaged ie. (y1-y2 + (y3-y2)change)/2 \n",
    "    \"\"\"\n",
    "    return col.rolling(n_years).mean()"
   ]
  },
  {
   "cell_type": "code",
   "execution_count": 10,
   "metadata": {},
   "outputs": [],
   "source": [
    "def calc_year_on_year(col, p):\n",
    "    \"\"\"\n",
    "    3year on year change as a prediction feature, raw pct change\n",
    "    \"\"\"\n",
    "    return col.diff(periods=p)"
   ]
  },
  {
   "cell_type": "code",
   "execution_count": 11,
   "metadata": {},
   "outputs": [],
   "source": [
    "def chop(col, index):\n",
    "    return col.iloc[index:]"
   ]
  },
  {
   "cell_type": "code",
   "execution_count": 12,
   "metadata": {},
   "outputs": [],
   "source": [
    "def discretize(series, n_bins):\n",
    "    #add -1 and 1 so the bins will take on bins to be equal and set to max -1 and 1\n",
    "    endpoints = pd.Series([-1,1])\n",
    "    series = series.append(endpoints)\n",
    "\n",
    "    #make a new output (bucket by percentage?)\n",
    "    discretizer = KBinsDiscretizer(n_bins=n_bins, encode='ordinal',strategy = 'uniform')\n",
    "    series = np.asarray(series).reshape((-1,1))\n",
    "\n",
    "    labels_binned = discretizer.fit_transform(series)\n",
    "\n",
    "    return labels_binned[:-2]"
   ]
  },
  {
   "cell_type": "code",
   "execution_count": 13,
   "metadata": {},
   "outputs": [],
   "source": [
    "def process_data():\n",
    "    \"\"\"\n",
    "    Reads in a CSV file and encodes text columns. \n",
    "    Removes indret_ew, indret_vw from df. \n",
    "    Returns df (X matrix) and ew_indret (Y values )\n",
    "    \"\"\"\n",
    "    df = read_csv(FAMA_49CRSP, n_ind=49)\n",
    "    df = encode(df, 'FFI49_desc')\n",
    "    \n",
    "    ew_indret, vw_indret = df.indret_ew, df.indret_vw \n",
    "    \n",
    "    df = df.drop(labels=['indret_ew', 'indret_vw'], axis=1)\n",
    "    \n",
    "    rolling_avg = calc_rolling_avg(ew_indret, 3)\n",
    "    year_on_year = calc_year_on_year(ew_indret, 3) \n",
    "    \n",
    "    df, ew_indret, year_on_year, rolling_avg = chop(df, 3), chop(ew_indret, 3), chop(year_on_year, 3), chop(rolling_avg, 3) \n",
    "    \n",
    "    ew_binned = discretize(ew_indret, 8)\n",
    "    \n",
    "    return df, ew_indret, ew_binned, year_on_year, rolling_avg"
   ]
  },
  {
   "cell_type": "code",
   "execution_count": 35,
   "metadata": {},
   "outputs": [],
   "source": [
    "def split_data(x, y): \n",
    "    \"\"\"\n",
    "    Splits data into 0.64 Train, 0.16 dev, 0.2 Test\n",
    "    \"\"\"\n",
    "    x_train, x_test, y_train, y_test = train_test_split(x, y, test_size = 0.2, shuffle = False)\n",
    "    x_train, x_dev, y_train, y_dev = train_test_split(x_train, y_train, test_size = 0.2, shuffle = False)\n",
    "    \n",
    "    return x_train, x_test, x_dev, y_dev, y_train, y_test"
   ]
  },
  {
   "cell_type": "code",
   "execution_count": 15,
   "metadata": {},
   "outputs": [],
   "source": [
    "def dev(model, x_train, y_train, x_dev, y_dev):\n",
    "    # also try RMSE? \n",
    "    y_train_predict = model.predict(x_train)\n",
    "    train_mse = metrics.mean_squared_error(y_train, y_train_predict)\n",
    "    \n",
    "    y_dev_predict = model.predict(x_dev)\n",
    "    mse = metrics.mean_squared_error(y_dev, y_dev_predict)\n",
    "    r2 = metrics.r2_score(y_dev, y_dev_predict)\n",
    "    print(train_mse)\n",
    "    print('R2: {}\\tMSE: {}'.format(r2, mse))\n",
    "    return y_train_predict, y_dev_predict"
   ]
  },
  {
   "cell_type": "code",
   "execution_count": 17,
   "metadata": {
    "scrolled": true
   },
   "outputs": [],
   "source": [
    "# Ordinary Least Squares: MSE 0.0064 \n",
    "# ElasticNet: MSE 0.0047\n",
    "# Ridge: MSE 0.0065\n",
    "# Kernel Ridge Regression: MSE 0.0050\n",
    "# Lasso: MSE 0.00456\n",
    "\n",
    "def train_Ridge(alpha, x_train, y_train):\n",
    "    reg = linear_model.Ridge(alpha=alpha)\n",
    "    reg.fit(x_train, y_train) \n",
    "\n",
    "    return reg\n",
    "\n",
    "def train_Lasso(alpha, x_train, y_train):\n",
    "    clf = linear_model.Lasso(alpha=alpha)\n",
    "    clf.fit(x_train, y_train)\n",
    "    return clf\n",
    "    \n",
    "def train_ElasticNet(alpha, x_train, y_train):\n",
    "    reg = linear_model.ElasticNet(alpha=alpha)\n",
    "    reg.fit(x_train, y_train) \n",
    "\n",
    "    return reg\n",
    "\n",
    "def train_SVR(x_train, y_train):\n",
    "    \"\"\"\n",
    "    Takes scaled training data (does not converge otherwise) \n",
    "    \"\"\"\n",
    "    x_train = preprocessing.scale(x_train)\n",
    "    x_dev = preprocessing.scale(x_dev)\n",
    "\n",
    "    reg = svm.SVR(kernel='poly', gamma='auto')\n",
    "    reg.fit(x_train, y_train) \n",
    "\n",
    "    return reg, x_dev, y_dev\n",
    "\n",
    "def train_KRR(alpha, x_train, y_train):\n",
    "    \"\"\"\n",
    "    Takes scaled training data (to avoid singular matrix problem? )\n",
    "    \"\"\"\n",
    "    KRR = KernelRidge(alpha=alpha)\n",
    "    KRR.fit(x_train, y_train)\n",
    "    return KRR"
   ]
  },
  {
   "cell_type": "code",
   "execution_count": 29,
   "metadata": {},
   "outputs": [],
   "source": [
    "df, ew_indret, ew_binned, year_on_year, rolling_avg = process_data()\n",
    "x_train, x_test, x_dev, y_dev, y_train, y_test = split_data(df, ew_indret) "
   ]
  },
  {
   "cell_type": "code",
   "execution_count": 32,
   "metadata": {},
   "outputs": [
    {
     "name": "stderr",
     "output_type": "stream",
     "text": [
      "/home/klchou/.local/lib/python3.6/site-packages/ipykernel_launcher.py:1: DataConversionWarning: Data with input dtype int64, float64 were all converted to float64 by the scale function.\n",
      "  \"\"\"Entry point for launching an IPython kernel.\n",
      "/home/klchou/.local/lib/python3.6/site-packages/ipykernel_launcher.py:2: DataConversionWarning: Data with input dtype int64, float64 were all converted to float64 by the scale function.\n",
      "  \n",
      "/home/klchou/.local/lib/python3.6/site-packages/ipykernel_launcher.py:2: DataConversionWarning: Data with input dtype int64, float64 were all converted to float64 by the scale function.\n",
      "  \n"
     ]
    },
    {
     "name": "stdout",
     "output_type": "stream",
     "text": [
      "0.004984417379070518\n",
      "R2: 0.019675065908519196\tMSE: 0.0050155132899462225\n"
     ]
    }
   ],
   "source": [
    "KRR = train_KRR(0.3, preprocessing.scale(x_train), y_train)\n",
    "KRRtrainpred, KRRdevpred = dev(KRR, preprocessing.scale(x_train), y_train, preprocessing.scale(x_dev), y_dev)"
   ]
  },
  {
   "cell_type": "code",
   "execution_count": 33,
   "metadata": {},
   "outputs": [
    {
     "name": "stdout",
     "output_type": "stream",
     "text": [
      "0.005305001643262295\n",
      "R2: 0.001611120927720533\tMSE: 0.005107931582054662\n"
     ]
    },
    {
     "name": "stderr",
     "output_type": "stream",
     "text": [
      "/home/klchou/.local/lib/python3.6/site-packages/sklearn/linear_model/coordinate_descent.py:491: ConvergenceWarning: Objective did not converge. You might want to increase the number of iterations. Fitting data with very small alpha may cause precision problems.\n",
      "  ConvergenceWarning)\n"
     ]
    }
   ],
   "source": [
    "lasso = train_Lasso(0.1, x_train, y_train)\n",
    "lassotrainpred, lassodevpred = dev(lasso,  x_train, y_train, x_dev, y_dev)"
   ]
  },
  {
   "cell_type": "code",
   "execution_count": 34,
   "metadata": {},
   "outputs": [
    {
     "name": "stdout",
     "output_type": "stream",
     "text": [
      "0.005277060950435299\n",
      "R2: 0.004059402939008527\tMSE: 0.005095405744408258\n"
     ]
    },
    {
     "name": "stderr",
     "output_type": "stream",
     "text": [
      "/home/klchou/.local/lib/python3.6/site-packages/sklearn/linear_model/coordinate_descent.py:491: ConvergenceWarning: Objective did not converge. You might want to increase the number of iterations. Fitting data with very small alpha may cause precision problems.\n",
      "  ConvergenceWarning)\n"
     ]
    }
   ],
   "source": [
    "elastic_net = train_ElasticNet(0.1, x_train, y_train)\n",
    "elasttrainpred, elastdevpred = dev(elastic_net,  x_train, y_train, x_dev, y_dev)"
   ]
  },
  {
   "cell_type": "code",
   "execution_count": 36,
   "metadata": {},
   "outputs": [
    {
     "name": "stdout",
     "output_type": "stream",
     "text": [
      "       Unnamed: 0  public_date  FFI49_desc  NFIRM  dpr_Median  \\\n",
      "19715       19680     20070228           0      6       0.268   \n",
      "23014       22989     20130228           0      5       0.267   \n",
      "18914       18888     20050930           0      5       0.440   \n",
      "19110       19075     20060131           0      5       0.346   \n",
      "21027       20992     20090630           0      7       0.285   \n",
      "\n",
      "       PEG_trailing_Median  bm_Median  CAPEI_Median  divyield_Median  \\\n",
      "19715                0.695      0.272        29.475             0.00   \n",
      "23014                1.764      0.344        19.110             2.73   \n",
      "18914                0.521      0.286        34.252             2.13   \n",
      "19110                0.185      0.274        30.389             1.74   \n",
      "21027                0.455      0.436        13.355             3.30   \n",
      "\n",
      "       evm_Median          ...            rect_turn_Median  \\\n",
      "19715      10.888          ...                       6.116   \n",
      "23014       8.876          ...                       5.591   \n",
      "18914      11.207          ...                       6.130   \n",
      "19110      10.842          ...                       6.004   \n",
      "21027       7.193          ...                       6.036   \n",
      "\n",
      "       sale_equity_Median  sale_invcap_Median  sale_nwc_Median  \\\n",
      "19715               3.288               2.099            9.376   \n",
      "23014               3.826               2.108            5.273   \n",
      "18914               2.774               1.978            6.497   \n",
      "19110               3.672               1.938            7.192   \n",
      "21027               3.099               2.040            7.937   \n",
      "\n",
      "       accrual_Median  rd_sale_Median  adv_sale_Median  staff_sale_Median  \\\n",
      "19715           0.027           0.044              0.0                0.0   \n",
      "23014           0.024           0.041              0.0                0.0   \n",
      "18914           0.035           0.037              0.0                0.0   \n",
      "19110           0.033           0.038              0.0                0.0   \n",
      "21027           0.010           0.040              0.0                0.0   \n",
      "\n",
      "       PEG_1yrforward_Median  PEG_ltgforward_Median  \n",
      "19715                  1.025                  1.540  \n",
      "23014                  1.224                  1.402  \n",
      "18914                  0.990                  1.619  \n",
      "19110                  0.953                  1.682  \n",
      "21027                 -0.373                  0.936  \n",
      "\n",
      "[5 rows x 75 columns]\n"
     ]
    },
    {
     "data": {
      "image/png": "[encoded data removed]",
      "text/plain": [
       "<Figure size 432x288 with 1 Axes>"
      ]
     },
     "metadata": {},
     "output_type": "display_data"
    },
    {
     "name": "stdout",
     "output_type": "stream",
     "text": [
      "       Unnamed: 0  public_date  FFI49_desc  NFIRM  dpr_Median  \\\n",
      "23474       23449     20131231           0      5       0.259   \n",
      "21569       21544     20100630           0      7       0.313   \n",
      "23244       23219     20130731           0      5       0.276   \n",
      "19471       19446     20060930           0      6       0.277   \n",
      "22966       22944     20130131           0      5       0.258   \n",
      "\n",
      "       PEG_trailing_Median  bm_Median  CAPEI_Median  divyield_Median  \\\n",
      "23474                2.190      0.289        33.352             1.57   \n",
      "21569                3.075      0.291        15.634             2.34   \n",
      "23244                1.553      0.305        26.028             2.52   \n",
      "19471                0.206      0.293        32.899             2.54   \n",
      "22966                1.936      0.348        18.147             2.54   \n",
      "\n",
      "       evm_Median          ...            rect_turn_Median  \\\n",
      "23474       9.785          ...                       5.641   \n",
      "21569       9.217          ...                       5.876   \n",
      "23244       8.651          ...                       5.680   \n",
      "19471      10.917          ...                       5.926   \n",
      "22966       8.448          ...                       5.777   \n",
      "\n",
      "       sale_equity_Median  sale_invcap_Median  sale_nwc_Median  \\\n",
      "23474               2.851               1.865            5.169   \n",
      "21569               3.005               1.807            7.174   \n",
      "23244               3.900               1.894            5.312   \n",
      "19471               3.309               1.913            9.623   \n",
      "22966               3.757               1.785            4.454   \n",
      "\n",
      "       accrual_Median  rd_sale_Median  adv_sale_Median  staff_sale_Median  \\\n",
      "23474           0.000           0.041              0.0                0.0   \n",
      "21569           0.051           0.039              0.0                0.0   \n",
      "23244           0.014           0.041              0.0                0.0   \n",
      "19471           0.020           0.042              0.0                0.0   \n",
      "22966           0.021           0.043              0.0                0.0   \n",
      "\n",
      "       PEG_1yrforward_Median  PEG_ltgforward_Median  \n",
      "23474                  0.763                  1.726  \n",
      "21569                 -1.058                  1.552  \n",
      "23244                  1.371                  1.710  \n",
      "19471                  0.622                  1.554  \n",
      "22966                  1.172                  1.405  \n",
      "\n",
      "[5 rows x 75 columns]\n"
     ]
    },
    {
     "data": {
      "image/png": "[encoded data removed]",
      "text/plain": [
       "<Figure size 432x288 with 1 Axes>"
      ]
     },
     "metadata": {},
     "output_type": "display_data"
    }
   ],
   "source": [
    "# for industry in x_train['FFI49_desc'].unique():\n",
    "graph(x_train, y_train, 0)\n",
    "graph(x_dev, y_dev, 0)"
   ]
  },
  {
   "cell_type": "code",
   "execution_count": 26,
   "metadata": {},
   "outputs": [],
   "source": [
    "def graph(x,y, industry, industryb = True):\n",
    "    x_industry = x[x['FFI49_desc'] == industry]\n",
    "    y_industry = y[x['FFI49_desc'] == industry]\n",
    "    date = x_industry['public_date']\n",
    "    print(x_industry.head())\n",
    "    plt.scatter(date,y_industry)\n",
    "    plt.show()\n",
    "    "
   ]
  },
  {
   "cell_type": "code",
   "execution_count": 23,
   "metadata": {},
   "outputs": [
    {
     "data": {
      "text/plain": [
       "[<matplotlib.lines.Line2D at 0x7f8ca290aac8>]"
      ]
     },
     "execution_count": 23,
     "metadata": {},
     "output_type": "execute_result"
    },
    {
     "data": {
      "image/png": "[encoded data removed]",
      "text/plain": [
       "<Figure size 432x288 with 1 Axes>"
      ]
     },
     "metadata": {},
     "output_type": "display_data"
    }
   ],
   "source": [
    "plt.plot(x_train['public_date'],y_train)"
   ]
  },
  {
   "cell_type": "code",
   "execution_count": null,
   "metadata": {},
   "outputs": [],
   "source": []
  }
 ],
 "metadata": {
  "kernelspec": {
   "display_name": "Python 3",
   "language": "python",
   "name": "python3"
  },
  "language_info": {
   "codemirror_mode": {
    "name": "ipython",
    "version": 3
   },
   "file_extension": ".py",
   "mimetype": "text/x-python",
   "name": "python",
   "nbconvert_exporter": "python",
   "pygments_lexer": "ipython3",
   "version": "3.6.5"
  }
 },
 "nbformat": 4,
 "nbformat_minor": 2
}
