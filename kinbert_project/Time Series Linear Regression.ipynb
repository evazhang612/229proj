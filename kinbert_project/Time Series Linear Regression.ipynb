{
 "cells": [
  {
   "cell_type": "code",
   "execution_count": 5,
   "metadata": {},
   "outputs": [],
   "source": [
    "import pandas as pd\n",
    "from sklearn import linear_model\n",
    "from sklearn.metrics import mean_squared_error, r2_score\n",
    "from sklearn.metrics import r2_score \n",
    "import numpy as np\n",
    "import math"
   ]
  },
  {
   "cell_type": "code",
   "execution_count": 6,
   "metadata": {},
   "outputs": [
    {
     "name": "stdout",
     "output_type": "stream",
     "text": [
      "{'Health Care', 'Information Technology', 'Utilities', 'Materials', 'Telecommunication Services', 'Energy', 'Financials', 'Real Estate', 'Consumer Staples', 'Consumer Discretionary', 'Industrials'}\n"
     ]
    }
   ],
   "source": [
    "DATA = '1c08d168ffb4c93e.csv'\n",
    "\n",
    "df = pd.read_csv(DATA) \n",
    "df['divyield_Median'] = [float(percent[:-1]) for percent in df['divyield_Median']]\n",
    "\n",
    "industries = set(df['gicdesc'])\n",
    "print(industries)"
   ]
  },
  {
   "cell_type": "code",
   "execution_count": 36,
   "metadata": {},
   "outputs": [
    {
     "name": "stdout",
     "output_type": "stream",
     "text": [
      "0\n"
     ]
    }
   ],
   "source": [
    "FINANCIALS = 'Financials.csv'\n",
    "\n",
    "df = pd.read_csv(FINANCIALS, skipfooter=1, engine='python')\n",
    "\n",
    "print(df.isnull().sum().sum())\n",
    "\n",
    "for column in df:\n",
    "    if df[column].dtype == np.number:\n",
    "        index = df[column].index[df[column].apply(np.isnan)]\n",
    "        if len(index) != 0:\n",
    "            print('{}\\t{}'.format(column, index))"
   ]
  },
  {
   "cell_type": "code",
   "execution_count": 45,
   "metadata": {},
   "outputs": [
    {
     "name": "stdout",
     "output_type": "stream",
     "text": [
      "   dpr_Median  PEG_trailing_Median  bm_Median  CAPEI_Median  divyield_Median  \\\n",
      "0         0.0                0.575      0.692        18.620             2.27   \n",
      "1         0.0                0.558      0.693        18.486             2.33   \n",
      "2         0.0                0.598      0.651        17.380             2.40   \n",
      "3         0.0                0.535      0.647        16.847             2.47   \n",
      "4         0.0                0.547      0.650        17.205             2.46   \n",
      "\n",
      "   evm_Median  pcf_Median  pe_exi_Median  pe_inc_Median  pe_op_basic_Median  \\\n",
      "0      10.276       3.332         12.671         12.665              12.192   \n",
      "1      10.265       3.203         12.500         12.500              12.071   \n",
      "2      10.290       2.405         12.033         11.993              11.905   \n",
      "3      10.280       2.268         11.469         11.382              11.158   \n",
      "4      10.264       2.372         11.715         11.547              11.264   \n",
      "\n",
      "           ...            rect_turn_Median  sale_equity_Median  \\\n",
      "0          ...                       0.161               1.000   \n",
      "1          ...                       0.161               0.999   \n",
      "2          ...                       0.157               0.984   \n",
      "3          ...                       0.157               0.980   \n",
      "4          ...                       0.158               0.980   \n",
      "\n",
      "   sale_invcap_Median  sale_nwc_Median  accrual_Median  rd_sale_Median  \\\n",
      "0               0.592            5.002           0.000               0   \n",
      "1               0.592            5.019           0.000               0   \n",
      "2               0.581            4.942          -0.004               0   \n",
      "3               0.581            5.209          -0.004               0   \n",
      "4               0.579            5.311          -0.004               0   \n",
      "\n",
      "   adv_sale_Median  staff_sale_Median  PEG_1yrforward_Median  \\\n",
      "0              0.0              0.164                  0.689   \n",
      "1              0.0              0.165                  0.663   \n",
      "2              0.0              0.167                  0.581   \n",
      "3              0.0              0.167                  0.569   \n",
      "4              0.0              0.167                  0.536   \n",
      "\n",
      "   PEG_ltgforward_Median  \n",
      "0                  1.036  \n",
      "1                  1.012  \n",
      "2                  0.947  \n",
      "3                  0.922  \n",
      "4                  0.981  \n",
      "\n",
      "[5 rows x 71 columns]\n"
     ]
    },
    {
     "data": {
      "text/plain": [
       "LinearRegression(copy_X=True, fit_intercept=True, n_jobs=None,\n",
       "         normalize=False)"
      ]
     },
     "execution_count": 45,
     "metadata": {},
     "output_type": "execute_result"
    }
   ],
   "source": [
    "reg = linear_model.LinearRegression()\n",
    "\n",
    "y_1 = df['indret_ew']\n",
    "y_2 = df['indret_vw']\n",
    "\n",
    "msk = np.random.rand(len(df)) < 0.8\n",
    "\n",
    "x = df.iloc[:, 6:]\n",
    "\n",
    "x_train = x[msk]\n",
    "x_test = x[~msk]\n",
    "y1_train = y_1[msk]\n",
    "y1_test = y_1[~msk]\n",
    "\n",
    "reg.fit(x_train, y1_train)"
   ]
  },
  {
   "cell_type": "code",
   "execution_count": 47,
   "metadata": {},
   "outputs": [
    {
     "name": "stdout",
     "output_type": "stream",
     "text": [
      "0.005529171038854332\n"
     ]
    }
   ],
   "source": [
    "y1_predict = reg.predict(x_test)\n",
    "mse = mean_squared_error(y1_test, y1_predict)\n",
    "print(mse)"
   ]
  },
  {
   "cell_type": "code",
   "execution_count": 19,
   "metadata": {},
   "outputs": [],
   "source": [
    "def readfile(filename):\n",
    "    df = pd.read_csv(filename, skipfooter=1, engine='python')\n",
    "    \n",
    "    y_1 = df['indret_ew']\n",
    "    y_2 = df['indret_vw']\n",
    "    msk = np.random.rand(len(df)) < 0.8\n",
    "\n",
    "    x = df.iloc[:, 6:]\n",
    "\n",
    "    x_train = x[msk]\n",
    "    x_test = x[~msk]\n",
    "    y1_train = y_1[msk]\n",
    "    y1_test = y_1[~msk]\n",
    "    \n",
    "    return x_train, x_test, y1_train, y1_test \n",
    "\n",
    "def train(x_train, x_test, y1_train, y1_test):\n",
    "    reg = linear_model.LinearRegression()\n",
    "    reg.fit(x_train, y1_train)\n",
    "    return reg\n",
    "    \n",
    "def predict_and_error(filename, reg, y1_test):\n",
    "    y1_predict = reg.predict(x_test)\n",
    "    mse = mean_squared_error(y1_test, y1_predict)\n",
    "    r2 = r2_score(y1_test, y1_predict)\n",
    "    print('{}\\t{}\\t{}'.format(filename, mse, r2))"
   ]
  },
  {
   "cell_type": "code",
   "execution_count": 20,
   "metadata": {},
   "outputs": [
    {
     "name": "stdout",
     "output_type": "stream",
     "text": [
      "Health Care\t0.009028495815760935\t-0.4559801795487932\n",
      "Information Technology\t0.04542538700999421\t-4.5522414857648545\n",
      "Utilities\t0.0017494002261713405\t-0.3600527098511803\n",
      "Materials\t0.0035880448526435897\t-0.07326664011708472\n",
      "Telecommunication Services\t0.010935790282164702\t-0.4692097507850803\n",
      "Energy\t0.017198447387415623\t-1.6827421481372151\n",
      "Financials\t0.002080647848036974\t0.13569373601042412\n",
      "Real Estate\t8.269302559838378e-05\t0.0\n",
      "Consumer Staples\t0.0019712097159163755\t-0.2998488187817694\n",
      "Consumer Discretionary\t0.0038153988814223195\t-0.9438450812266306\n",
      "Industrials\t0.005159257780031679\t-0.21140233186042523\n"
     ]
    }
   ],
   "source": [
    "for industry in industries:\n",
    "    x_train, x_test, y1_train, y1_test = readfile('{}.csv'.format(industry))\n",
    "    reg = train(x_train, x_test, y1_train, y1_test)\n",
    "    predict_and_error(industry, reg, y1_test)"
   ]
  },
  {
   "cell_type": "code",
   "execution_count": null,
   "metadata": {},
   "outputs": [],
   "source": []
  }
 ],
 "metadata": {
  "kernelspec": {
   "display_name": "Python 3",
   "language": "python",
   "name": "python3"
  },
  "language_info": {
   "codemirror_mode": {
    "name": "ipython",
    "version": 3
   },
   "file_extension": ".py",
   "mimetype": "text/x-python",
   "name": "python",
   "nbconvert_exporter": "python",
   "pygments_lexer": "ipython3",
   "version": "3.6.5"
  }
 },
 "nbformat": 4,
 "nbformat_minor": 2
}
