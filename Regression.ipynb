{
 "cells": [
  {
   "cell_type": "code",
   "execution_count": 16,
   "metadata": {},
   "outputs": [],
   "source": [
    "import numpy as np\n",
    "import pandas as pd\n",
    "import sklearn\n",
    "\n",
    "from sklearn import preprocessing \n",
    "from sklearn.preprocessing import KBinsDiscretizer\n",
    "from sklearn.model_selection import train_test_split\n",
    "from sklearn import linear_model\n",
    "from sklearn import metrics\n",
    "\n",
    "FAMA_49CRSP = 'FAMA_49CRSP.csv'"
   ]
  },
  {
   "cell_type": "code",
   "execution_count": 2,
   "metadata": {},
   "outputs": [],
   "source": [
    "def read_csv(filename, n_ind):\n",
    "    \"\"\"\n",
    "    Read in CSV file of financial ratios and returns a pandas dataframe.\n",
    "    df is sorted by date in ascending order. \n",
    "    \"\"\"\n",
    "    df = pd.read_csv(filename)\n",
    "    df = df.sort_values(by='public_date', ascending=True)\n",
    "    return df"
   ]
  },
  {
   "cell_type": "code",
   "execution_count": 3,
   "metadata": {},
   "outputs": [],
   "source": [
    "def pct_format(col): \n",
    "    temp = [float(x[:-1]) if x is not np.nan else 0 for x in col]\n",
    "    return pd.Series(temp)"
   ]
  },
  {
   "cell_type": "code",
   "execution_count": 4,
   "metadata": {},
   "outputs": [],
   "source": [
    "def write_csv(filename, n_ind):\n",
    "    \"\"\"\n",
    "    Read in CSV file of financial ratios and returns a pandas dataframe.\n",
    "    df is sorted by date in ascending order. \n",
    "    \"\"\"\n",
    "    df = pd.read_csv(filename)\n",
    "    df = df.sort_values(by='public_date', ascending=True)\n",
    "    df['divyield_Median'] = pct_format(df['divyield_Median'])\n",
    "    \n",
    "    df = df.drop(labels=['pe_op_basic_Median', 'pe_op_dil_Median', 'PEG_1yrforward_Median', 'PEG_ltgforward_Median'], axis=1)\n",
    "    df = df.fillna(df.mean())\n",
    "    \n",
    "    df = df[:-n_ind]\n",
    "    \n",
    "    df.to_csv('FAMA_49CRSP.csv')"
   ]
  },
  {
   "cell_type": "code",
   "execution_count": 5,
   "metadata": {},
   "outputs": [],
   "source": [
    "write_csv('ee6d2f60cdafb550.csv', 49)"
   ]
  },
  {
   "cell_type": "code",
   "execution_count": 6,
   "metadata": {},
   "outputs": [],
   "source": [
    "def encode(df, col):\n",
    "    \"\"\"\n",
    "    Takes in pandas dataframe and encodes df.col as numbers. \n",
    "    \"\"\"\n",
    "    encoder = preprocessing.LabelEncoder()\n",
    "    industry_desc_encode = encoder.fit_transform(df[col])\n",
    "    df[col] = industry_desc_encode\n",
    "    return df "
   ]
  },
  {
   "cell_type": "code",
   "execution_count": 7,
   "metadata": {},
   "outputs": [],
   "source": [
    "def calc_rolling_avg(col, n_years):\n",
    "    \"\"\"\n",
    "    3 years rolling percent change, averaged ie. (y1-y2 + (y3-y2)change)/2 \n",
    "    \"\"\"\n",
    "    return col.rolling(n_years).mean()"
   ]
  },
  {
   "cell_type": "code",
   "execution_count": 8,
   "metadata": {},
   "outputs": [],
   "source": [
    "def calc_year_on_year(col, p):\n",
    "    \"\"\"\n",
    "    3year on year change as a prediction feature, raw pct change\n",
    "    \"\"\"\n",
    "    return col.diff(periods=p)"
   ]
  },
  {
   "cell_type": "code",
   "execution_count": 9,
   "metadata": {},
   "outputs": [],
   "source": [
    "def chop(col, index):\n",
    "    return col.iloc[index:]"
   ]
  },
  {
   "cell_type": "code",
   "execution_count": 10,
   "metadata": {},
   "outputs": [],
   "source": [
    "def discretize(series, n_bins):\n",
    "    #add -1 and 1 so the bins will take on bins to be equal and set to max -1 and 1\n",
    "    endpoints = pd.Series([-1,1])\n",
    "    series = series.append(endpoints)\n",
    "\n",
    "    #make a new output (bucket by percentage?)\n",
    "    discretizer = KBinsDiscretizer(n_bins=n_bins, encode='ordinal',strategy = 'uniform')\n",
    "    series = np.asarray(series).reshape((-1,1))\n",
    "\n",
    "    labels_binned = discretizer.fit_transform(series)\n",
    "\n",
    "    return labels_binned[:-2]"
   ]
  },
  {
   "cell_type": "code",
   "execution_count": 31,
   "metadata": {},
   "outputs": [],
   "source": [
    "def process_data():\n",
    "    \"\"\"\n",
    "    Reads in a CSV file and encodes text columns. \n",
    "    Removes indret_ew, indret_vw from df. \n",
    "    Returns df (X matrix) and ew_indret (Y values )\n",
    "    \"\"\"\n",
    "    df = read_csv(FAMA_49CRSP, n_ind=49)\n",
    "    df = encode(df, 'FFI49_desc')\n",
    "    \n",
    "    ew_indret, vw_indret = df.indret_ew, df.indret_vw \n",
    "    \n",
    "    df = df.drop(labels=['indret_ew', 'indret_vw'], axis=1)\n",
    "    \n",
    "    rolling_avg = calc_rolling_avg(ew_indret, 3)\n",
    "    year_on_year = calc_year_on_year(ew_indret, 3) \n",
    "    \n",
    "    df, ew_indret, year_on_year, rolling_avg = chop(df, 3), chop(ew_indret, 3), chop(year_on_year, 3), chop(rolling_avg, 3) \n",
    "    \n",
    "    ew_binned = discretize(ew_indret, 8)\n",
    "    \n",
    "    return df, ew_indret, ew_binned, year_on_year, rolling_avg"
   ]
  },
  {
   "cell_type": "code",
   "execution_count": 32,
   "metadata": {},
   "outputs": [],
   "source": [
    "def split_data(x, y): \n",
    "    \"\"\"\n",
    "    Splits data into 0.64 Train, 0.16 dev, 0.2 Test\n",
    "    \"\"\"\n",
    "    x_train, x_test, y_train, y_test = train_test_split(x, y, test_size = 0.2, shuffle = False)\n",
    "    x_train, x_dev, y_train, y_dev = train_test_split(x_train, y_train, test_size = 0.2, shuffle = False)\n",
    "    \n",
    "    return x_train, x_test, x_dev, y_dev, y_train, y_test"
   ]
  },
  {
   "cell_type": "code",
   "execution_count": 42,
   "metadata": {
    "scrolled": true
   },
   "outputs": [],
   "source": [
    "def train_Ridge(alpha):\n",
    "    print(alpha)\n",
    "    df, ew_indret, ew_binned, year_on_year, rolling_avg = process_data()\n",
    "\n",
    "    x_train, x_test, x_dev, y_dev, y_train, y_test = split_data(df, ew_indret) \n",
    "\n",
    "    reg = linear_model.Ridge(alpha=alpha)\n",
    "    reg.fit(x_train, y_train) \n",
    "\n",
    "    return reg"
   ]
  },
  {
   "cell_type": "code",
   "execution_count": 59,
   "metadata": {},
   "outputs": [],
   "source": [
    "def dev(reg):\n",
    "    y_dev_predict = reg.predict(x_dev)\n",
    "    mse = metrics.mean_squared_error(y_dev, y_dev_predict)\n",
    "    mse_scaled = mse / y_dev.mean()\n",
    "    r2 = metrics.r2_score(y_dev, y_dev_predict)\n",
    "    print('R2: {}\\tMSE scaled: {}'.format(r2, mse_scaled))"
   ]
  },
  {
   "cell_type": "code",
   "execution_count": 60,
   "metadata": {},
   "outputs": [
    {
     "name": "stdout",
     "output_type": "stream",
     "text": [
      "0.0\n",
      "R2: -0.3961511277792107\tMSE scaled: 0.5867924289456709\n",
      "0.1\n",
      "R2: -0.3938302214426084\tMSE scaled: 0.5858169684532408\n",
      "0.2\n",
      "R2: -0.39182582154631795\tMSE scaled: 0.5849745333756046\n",
      "0.30000000000000004\n",
      "R2: -0.39006710580351855\tMSE scaled: 0.5842353576073023\n",
      "0.4\n",
      "R2: -0.38850485744428753\tMSE scaled: 0.5835787556885775\n",
      "0.5\n",
      "R2: -0.38710342963649413\tMSE scaled: 0.5829897455084009\n",
      "0.6000000000000001\n",
      "R2: -0.38583612081469676\tMSE scaled: 0.5824571045879658\n",
      "0.7000000000000001\n",
      "R2: -0.3846823684439151\tMSE scaled: 0.581972190639481\n",
      "0.8\n",
      "R2: -0.3836259686894523\tMSE scaled: 0.5815281933060085\n",
      "0.9\n",
      "R2: -0.38265390320410875\tMSE scaled: 0.5811196410684392\n",
      "1.0\n",
      "R2: -0.3817555402329953\tMSE scaled: 0.5807420654755068\n"
     ]
    }
   ],
   "source": [
    "for i in np.arange(0, 1.1, 0.1):\n",
    "    reg = train(i)\n",
    "    dev(reg)"
   ]
  },
  {
   "cell_type": "code",
   "execution_count": 61,
   "metadata": {},
   "outputs": [],
   "source": [
    "def train_ElasticNet(alpha):\n",
    "    print(alpha)\n",
    "    df, ew_indret, ew_binned, year_on_year, rolling_avg = process_data()\n",
    "\n",
    "    x_train, x_test, x_dev, y_dev, y_train, y_test = split_data(df, ew_indret) \n",
    "\n",
    "    reg = linear_model.ElasticNet(alpha=alpha)\n",
    "    reg.fit(x_train, y_train) \n",
    "\n",
    "    return reg"
   ]
  },
  {
   "cell_type": "code",
   "execution_count": 62,
   "metadata": {
    "scrolled": true
   },
   "outputs": [
    {
     "name": "stdout",
     "output_type": "stream",
     "text": [
      "0\n"
     ]
    },
    {
     "name": "stderr",
     "output_type": "stream",
     "text": [
      "/home/klchou/.local/lib/python3.6/site-packages/ipykernel_launcher.py:8: UserWarning: With alpha=0, this algorithm does not converge well. You are advised to use the LinearRegression estimator\n",
      "  \n",
      "/home/klchou/.local/lib/python3.6/site-packages/sklearn/linear_model/coordinate_descent.py:477: UserWarning: Coordinate descent with no regularization may lead to unexpected results and is discouraged.\n",
      "  positive)\n",
      "/home/klchou/.local/lib/python3.6/site-packages/sklearn/linear_model/coordinate_descent.py:491: ConvergenceWarning: Objective did not converge. You might want to increase the number of iterations. Fitting data with very small alpha may cause precision problems.\n",
      "  ConvergenceWarning)\n"
     ]
    },
    {
     "name": "stdout",
     "output_type": "stream",
     "text": [
      "R2: -0.3780714032047665\tMSE scaled: 0.5791936487802442\n",
      "5\n",
      "R2: -0.00297161113390243\tMSE scaled: 0.42154186330599547\n",
      "10\n",
      "R2: -0.002875449947583819\tMSE scaled: 0.4215014474405727\n",
      "15\n",
      "R2: -0.002780901815227832\tMSE scaled: 0.4214617095303039\n",
      "20\n",
      "R2: -0.002687966736832026\tMSE scaled: 0.42142264957518794\n",
      "25\n",
      "R2: -0.002596644712392626\tMSE scaled: 0.4213842675752233\n",
      "30\n",
      "R2: -0.002506935741906524\tMSE scaled: 0.4213465635304086\n",
      "35\n",
      "R2: -0.002418839825370611\tMSE scaled: 0.42130953744074284\n",
      "40\n",
      "R2: -0.0023323569627820007\tMSE scaled: 0.4212731893062243\n",
      "45\n",
      "R2: -0.002247487154136918\tMSE scaled: 0.4212375191268518\n",
      "50\n",
      "R2: -0.0021642303994324763\tMSE scaled: 0.42120252690262405\n",
      "55\n",
      "R2: -0.002082586698665345\tMSE scaled: 0.4211682126335396\n",
      "60\n",
      "R2: -0.00200255605183286\tMSE scaled: 0.4211345763195972\n",
      "65\n",
      "R2: -0.001924138458931246\tMSE scaled: 0.42110161796079554\n",
      "70\n",
      "R2: -0.0018473339199576166\tMSE scaled: 0.4210693375571331\n",
      "75\n",
      "R2: -0.0017721424349088633\tMSE scaled: 0.42103773510860887\n",
      "80\n",
      "R2: -0.0016985640037814331\tMSE scaled: 0.4210068106152211\n",
      "85\n",
      "R2: -0.0016265986265726617\tMSE scaled: 0.4209765640769688\n",
      "90\n",
      "R2: -0.0015562463032787743\tMSE scaled: 0.4209469954938504\n",
      "95\n",
      "R2: -0.0014875070338971064\tMSE scaled: 0.4209181048658648\n"
     ]
    }
   ],
   "source": [
    "for alpha in np.arange(0, 100, 5):\n",
    "    reg = train_ElasticNet(alpha)\n",
    "    dev(reg)"
   ]
  },
  {
   "cell_type": "code",
   "execution_count": null,
   "metadata": {},
   "outputs": [],
   "source": []
  }
 ],
 "metadata": {
  "kernelspec": {
   "display_name": "Python 3",
   "language": "python",
   "name": "python3"
  },
  "language_info": {
   "codemirror_mode": {
    "name": "ipython",
    "version": 3
   },
   "file_extension": ".py",
   "mimetype": "text/x-python",
   "name": "python",
   "nbconvert_exporter": "python",
   "pygments_lexer": "ipython3",
   "version": "3.6.5"
  }
 },
 "nbformat": 4,
 "nbformat_minor": 2
}
