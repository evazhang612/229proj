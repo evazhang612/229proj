{
 "cells": [
  {
   "cell_type": "code",
   "execution_count": 23,
   "metadata": {},
   "outputs": [],
   "source": [
    "import numpy as np\n",
    "import pandas as pd\n",
    "\n",
    "from sklearn import preprocessing \n",
    "from sklearn.preprocessing import KBinsDiscretizer\n",
    "from sklearn.model_selection import train_test_split\n",
    "from sklearn import linear_model\n",
    "from sklearn import metrics\n",
    "from sklearn import svm\n",
    "from sklearn.kernel_ridge import KernelRidge\n",
    "\n",
    "\n",
    "FAMA_49CRSP = 'FAMA_49CRSP.csv'"
   ]
  },
  {
   "cell_type": "code",
   "execution_count": 4,
   "metadata": {},
   "outputs": [],
   "source": [
    "# https://keras.io/regularizers/\n",
    "# https://keras.io/callbacks/\n",
    "# https://en.wikipedia.org/wiki/Kriging\n",
    "# https://gist.github.com/stared/dfb4dfaf6d9a8501cd1cc8b8cb806d2e\n",
    "# https://www.tensorflow.org/guide/summaries_and_tensorboard\n",
    "# https://stackoverflow.com/questions/50978117/how-to-plot-loss-curve-in-tensorflow-without-using-tensorboard\n",
    "# https://www.tensorflow.org/api_docs/python/tf/keras/callbacks/Callback\n",
    "# https://www.tensorflow.org/api_docs/python/tf/keras/utils/normalize\n",
    "# https://scikit-learn.org/stable/modules/generated/sklearn.preprocessing.normalize.html\n",
    "# https://datascience.stackexchange.com/questions/989/svm-using-scikit-learn-runs-endlessly-and-never-completes-execution"
   ]
  },
  {
   "cell_type": "code",
   "execution_count": 5,
   "metadata": {},
   "outputs": [],
   "source": [
    "def read_csv(filename, n_ind):\n",
    "    \"\"\"\n",
    "    Read in CSV file of financial ratios and returns a pandas dataframe.\n",
    "    df is sorted by date in ascending order. \n",
    "    \"\"\"\n",
    "    df = pd.read_csv(filename)\n",
    "    df = df.dropna()\n",
    "    df = df.sort_values(by='public_date', ascending=True)\n",
    "    return df"
   ]
  },
  {
   "cell_type": "code",
   "execution_count": 6,
   "metadata": {},
   "outputs": [],
   "source": [
    "def pct_format(col): \n",
    "    temp = [float(x[:-1]) if x is not np.nan else 0 for x in col]\n",
    "    return pd.Series(temp)"
   ]
  },
  {
   "cell_type": "code",
   "execution_count": 7,
   "metadata": {},
   "outputs": [],
   "source": [
    "def write_csv(filename):\n",
    "    \"\"\"\n",
    "    Read in CSV file of financial ratios and returns a pandas dataframe.\n",
    "    Drops empty columns and reformats a str col into a float col. \n",
    "    df is sorted by date in ascending order. \n",
    "    \"\"\"\n",
    "    df = pd.read_csv(filename)\n",
    "    df = df.sort_values(by='public_date', ascending=True)\n",
    "    df['divyield_Median'] = pct_format(df['divyield_Median'])\n",
    "    \n",
    "    df.to_csv('FAMA_49CRSP.csv')"
   ]
  },
  {
   "cell_type": "code",
   "execution_count": 8,
   "metadata": {},
   "outputs": [],
   "source": [
    "# write_csv('ee6d2f60cdafb550.csv')"
   ]
  },
  {
   "cell_type": "code",
   "execution_count": 9,
   "metadata": {},
   "outputs": [],
   "source": [
    "def encode(df, col):\n",
    "    \"\"\"\n",
    "    Takes in pandas dataframe and encodes df.col as numbers. \n",
    "    \"\"\"\n",
    "    encoder = preprocessing.LabelEncoder()\n",
    "    industry_desc_encode = encoder.fit_transform(df[col])\n",
    "    df[col] = industry_desc_encode\n",
    "    return df "
   ]
  },
  {
   "cell_type": "code",
   "execution_count": 10,
   "metadata": {},
   "outputs": [],
   "source": [
    "def calc_rolling_avg(col, n_years):\n",
    "    \"\"\"\n",
    "    3 years rolling percent change, averaged ie. (y1-y2 + (y3-y2)change)/2 \n",
    "    \"\"\"\n",
    "    return col.rolling(n_years).mean()"
   ]
  },
  {
   "cell_type": "code",
   "execution_count": 11,
   "metadata": {},
   "outputs": [],
   "source": [
    "def calc_year_on_year(col, p):\n",
    "    \"\"\"\n",
    "    3year on year change as a prediction feature, raw pct change\n",
    "    \"\"\"\n",
    "    return col.diff(periods=p)"
   ]
  },
  {
   "cell_type": "code",
   "execution_count": 12,
   "metadata": {},
   "outputs": [],
   "source": [
    "def chop(col, index):\n",
    "    return col.iloc[index:]"
   ]
  },
  {
   "cell_type": "code",
   "execution_count": 13,
   "metadata": {},
   "outputs": [],
   "source": [
    "def discretize(series, n_bins):\n",
    "    #add -1 and 1 so the bins will take on bins to be equal and set to max -1 and 1\n",
    "    endpoints = pd.Series([-1,1])\n",
    "    series = series.append(endpoints)\n",
    "\n",
    "    #make a new output (bucket by percentage?)\n",
    "    discretizer = KBinsDiscretizer(n_bins=n_bins, encode='ordinal',strategy = 'uniform')\n",
    "    series = np.asarray(series).reshape((-1,1))\n",
    "\n",
    "    labels_binned = discretizer.fit_transform(series)\n",
    "\n",
    "    return labels_binned[:-2]"
   ]
  },
  {
   "cell_type": "code",
   "execution_count": 14,
   "metadata": {},
   "outputs": [],
   "source": [
    "def process_data():\n",
    "    \"\"\"\n",
    "    Reads in a CSV file and encodes text columns. \n",
    "    Removes indret_ew, indret_vw from df. \n",
    "    Returns df (X matrix) and ew_indret (Y values )\n",
    "    \"\"\"\n",
    "    df = read_csv(FAMA_49CRSP, n_ind=49)\n",
    "    df = encode(df, 'FFI49_desc')\n",
    "    \n",
    "    ew_indret, vw_indret = df.indret_ew, df.indret_vw \n",
    "    \n",
    "    df = df.drop(labels=['indret_ew', 'indret_vw'], axis=1)\n",
    "    \n",
    "    rolling_avg = calc_rolling_avg(ew_indret, 3)\n",
    "    year_on_year = calc_year_on_year(ew_indret, 3) \n",
    "    \n",
    "    df, ew_indret, year_on_year, rolling_avg = chop(df, 3), chop(ew_indret, 3), chop(year_on_year, 3), chop(rolling_avg, 3) \n",
    "    \n",
    "    ew_binned = discretize(ew_indret, 8)\n",
    "    \n",
    "    return df, ew_indret, ew_binned, year_on_year, rolling_avg"
   ]
  },
  {
   "cell_type": "code",
   "execution_count": 15,
   "metadata": {},
   "outputs": [],
   "source": [
    "def split_data(x, y): \n",
    "    \"\"\"\n",
    "    Splits data into 0.64 Train, 0.16 dev, 0.2 Test\n",
    "    \"\"\"\n",
    "    x_train, x_test, y_train, y_test = train_test_split(x, y, test_size = 0.2, shuffle = False)\n",
    "    x_train, x_dev, y_train, y_dev = train_test_split(x_train, y_train, test_size = 0.2, shuffle = False)\n",
    "    \n",
    "    return x_train, x_test, x_dev, y_dev, y_train, y_test"
   ]
  },
  {
   "cell_type": "code",
   "execution_count": 21,
   "metadata": {},
   "outputs": [],
   "source": [
    "def dev(model, x_dev, y_dev):\n",
    "    # also try RMSE? \n",
    "    y_dev_predict = model.predict(x_dev)\n",
    "    mse = metrics.mean_squared_error(y_dev, y_dev_predict)\n",
    "    r2 = metrics.r2_score(y_dev, y_dev_predict)\n",
    "    print('R2: {}\\tMSE: {}'.format(r2, mse))"
   ]
  },
  {
   "cell_type": "code",
   "execution_count": 37,
   "metadata": {
    "scrolled": true
   },
   "outputs": [],
   "source": [
    "# Ordinary Least Squares: MSE 0.0064 \n",
    "# ElasticNet: MSE 0.0047\n",
    "# Ridge: MSE 0.0065\n",
    "# Kernel Ridge Regression: MSE 0.0050\n",
    "# Lasso: MSE 0.00456\n",
    "\n",
    "def train_Ridge(alpha, x_train, y_train):\n",
    "    reg = linear_model.Ridge(alpha=alpha)\n",
    "    reg.fit(x_train, y_train) \n",
    "\n",
    "    return reg\n",
    "\n",
    "def train_Lasso(alpha, x_train, y_train):\n",
    "    clf = linear_model.Lasso(alpha=alpha)\n",
    "    clf.fit(x_train, y_train)\n",
    "    return clf\n",
    "    \n",
    "def train_ElasticNet(alpha, x_train, y_train):\n",
    "    reg = linear_model.ElasticNet(alpha=alpha)\n",
    "    reg.fit(x_train, y_train) \n",
    "\n",
    "    return reg\n",
    "\n",
    "def train_SVR(x_train, y_train):\n",
    "    \"\"\"\n",
    "    Takes scaled training data (does not converge otherwise) \n",
    "    \"\"\"\n",
    "    x_train = preprocessing.scale(x_train)\n",
    "    x_dev = preprocessing.scale(x_dev)\n",
    "\n",
    "    reg = svm.SVR(kernel='poly', gamma='auto')\n",
    "    reg.fit(x_train, y_train) \n",
    "\n",
    "    return reg, x_dev, y_dev\n",
    "\n",
    "def train_KRR(alpha, x_train, y_train):\n",
    "    \"\"\"\n",
    "    Takes scaled training data (to avoid singular matrix problem? )\n",
    "    \"\"\"\n",
    "    KRR = KernelRidge(alpha=alpha)\n",
    "    KRR.fit(x_train, y_train)\n",
    "    return KRR "
   ]
  },
  {
   "cell_type": "code",
   "execution_count": 25,
   "metadata": {},
   "outputs": [],
   "source": [
    "df, ew_indret, ew_binned, year_on_year, rolling_avg = process_data()\n",
    "x_train, x_test, x_dev, y_dev, y_train, y_test = split_data(df, ew_indret) "
   ]
  },
  {
   "cell_type": "code",
   "execution_count": 28,
   "metadata": {},
   "outputs": [
    {
     "name": "stderr",
     "output_type": "stream",
     "text": [
      "/home/klchou/.local/lib/python3.6/site-packages/ipykernel_launcher.py:1: DataConversionWarning: Data with input dtype int64, float64 were all converted to float64 by the scale function.\n",
      "  \"\"\"Entry point for launching an IPython kernel.\n"
     ]
    },
    {
     "name": "stdout",
     "output_type": "stream",
     "text": [
      "R2: -0.1043792112373716\tMSE: 0.005006491459622191\n"
     ]
    },
    {
     "name": "stderr",
     "output_type": "stream",
     "text": [
      "/home/klchou/.local/lib/python3.6/site-packages/ipykernel_launcher.py:2: DataConversionWarning: Data with input dtype int64, float64 were all converted to float64 by the scale function.\n",
      "  \n"
     ]
    }
   ],
   "source": [
    "KRR = train_KRR(0.3, preprocessing.scale(x_train), y_train)\n",
    "dev(KRR, preprocessing.scale(x_dev), y_dev)"
   ]
  },
  {
   "cell_type": "code",
   "execution_count": 36,
   "metadata": {},
   "outputs": [
    {
     "name": "stdout",
     "output_type": "stream",
     "text": [
      "R2: -0.0061314052506031835\tMSE: 0.004561103863953613\n"
     ]
    }
   ],
   "source": [
    "lasso = train_Lasso(0.1, x_train, y_train)\n",
    "dev(lasso, x_dev, y_dev)"
   ]
  },
  {
   "cell_type": "code",
   "execution_count": null,
   "metadata": {},
   "outputs": [],
   "source": []
  }
 ],
 "metadata": {
  "kernelspec": {
   "display_name": "Python 3",
   "language": "python",
   "name": "python3"
  },
  "language_info": {
   "codemirror_mode": {
    "name": "ipython",
    "version": 3
   },
   "file_extension": ".py",
   "mimetype": "text/x-python",
   "name": "python",
   "nbconvert_exporter": "python",
   "pygments_lexer": "ipython3",
   "version": "3.6.5"
  }
 },
 "nbformat": 4,
 "nbformat_minor": 2
}
