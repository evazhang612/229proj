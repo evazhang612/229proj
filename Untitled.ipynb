{
 "cells": [
  {
   "cell_type": "code",
   "execution_count": 9,
   "metadata": {},
   "outputs": [],
   "source": [
    "from datetime import datetime\n",
    "\n",
    "import numpy as np\n",
    "import pandas as pd\n",
    "\n",
    "from sklearn import preprocessing \n",
    "from sklearn.model_selection import train_test_split\n",
    "\n",
    "FAMA_49CRSP = 'FAMA_49CRSP.csv'"
   ]
  },
  {
   "cell_type": "code",
   "execution_count": 10,
   "metadata": {},
   "outputs": [],
   "source": [
    "def encode(df, col):\n",
    "    \"\"\"\n",
    "    Takes in pandas dataframe and encodes df.col as numbers. \n",
    "    \"\"\"\n",
    "    encoder = preprocessing.LabelEncoder()\n",
    "    industry_desc_encode = encoder.fit_transform(df[col])\n",
    "    df[col] = industry_desc_encode\n",
    "    return df \n",
    "\n",
    "def process_data():\n",
    "    \"\"\"\n",
    "    Reads in a CSV file and encodes text columns. \n",
    "    Removes indret_ew, indret_vw from df. \n",
    "    Returns df (X matrix) and ew_indret (Y values )\n",
    "    \"\"\"\n",
    "    df = pd.read_csv(FAMA_49CRSP, header=0, dtype={'public_date' : str})\n",
    "    df = encode(df, 'FFI49_desc')\n",
    "    \n",
    "    ew_indret = df.indret_ew\n",
    "    \n",
    "    df = df.drop(labels=['indret_ew', 'indret_vw'], axis=1)\n",
    "        \n",
    "    return df, ew_indret\n",
    "\n",
    "def split_data(x, y): \n",
    "    \"\"\"\n",
    "    Splits data into 0.64 Train, 0.16 dev, 0.2 Test\n",
    "    \"\"\"\n",
    "    x_train, x_test, y_train, y_test = train_test_split(x, y, test_size = 0.2, shuffle = False)\n",
    "    x_train, x_dev, y_train, y_dev = train_test_split(x_train, y_train, test_size = 0.2, shuffle = False)\n",
    "    \n",
    "    return x_train, x_test, x_dev, y_dev, y_train, y_test"
   ]
  },
  {
   "cell_type": "code",
   "execution_count": 17,
   "metadata": {},
   "outputs": [],
   "source": [
    "def split_industries():\n",
    "    df = pd.read_csv(FAMA_49CRSP)\n",
    "    \n",
    "    industries = set(df['FFI49_desc'])\n",
    "    \n",
    "    for ind in industries: \n",
    "        df_ind = df[df['FFI49_desc'] == ind]"
   ]
  },
  {
   "cell_type": "code",
   "execution_count": 18,
   "metadata": {},
   "outputs": [
    {
     "name": "stdout",
     "output_type": "stream",
     "text": [
      "{'HSHLD', 'RTAIL', 'AUTOS', 'MINES', 'TELCM', 'TRANS', 'BEER', 'CHEMS', 'FABPR', 'BANKS', 'AGRIC', 'INSUR', 'COAL', 'OIL', 'UTIL', 'MEDEQ', 'TOYS', 'OTHER', 'CNSTR', 'ELCEQ', 'DRUGS', 'SOFTW', 'BUSSV', 'CHIPS', 'MEALS', 'GOLD', 'MACH', 'RLEST', 'FUN', 'HLTH', 'FIN', 'STEEL', 'PAPER', 'HARDW', 'SODA', 'SHIPS', 'CLTHS', 'FOOD', 'PERSV', 'RUBBR', 'SMOKE', 'TXTLS', 'WHLSL', 'GUNS', 'BOXES', 'LABEQ', 'BOOKS', 'BLDMT', 'AERO'}\n"
     ]
    }
   ],
   "source": [
    "split_industries()"
   ]
  },
  {
   "cell_type": "code",
   "execution_count": 13,
   "metadata": {},
   "outputs": [],
   "source": [
    "def graph(x, y_real, y_pred=None, industry=0):\n",
    "    x_industry = x[x['FFI49_desc'] == industry]\n",
    "    y_industry = y_real[x['FFI49_desc'] == industry]\n",
    "    y_pred = y_pred[x['FFI49_desc'] == industry] if y_pred is not None else None\n",
    "    x = [datetime(year=int(x[0:4]), month=int(x[4:6]), day=int(x[6:8])) for x in x_industry['public_date']] \n",
    "    \n",
    "    plt.plot(x ,y_industry, color='tab:green')\n",
    "    if y_pred is not None: \n",
    "        plt.plot(x, y_pred, color='tab:red')\n",
    "    plt.show()"
   ]
  },
  {
   "cell_type": "code",
   "execution_count": 11,
   "metadata": {},
   "outputs": [],
   "source": [
    "df, ew_indret = process_data()\n",
    "x_train, x_test, x_dev, y_dev, y_train, y_test = split_data(df, ew_indret)"
   ]
  },
  {
   "cell_type": "code",
   "execution_count": null,
   "metadata": {},
   "outputs": [],
   "source": []
  }
 ],
 "metadata": {
  "kernelspec": {
   "display_name": "Python 3",
   "language": "python",
   "name": "python3"
  },
  "language_info": {
   "codemirror_mode": {
    "name": "ipython",
    "version": 3
   },
   "file_extension": ".py",
   "mimetype": "text/x-python",
   "name": "python",
   "nbconvert_exporter": "python",
   "pygments_lexer": "ipython3",
   "version": "3.6.5"
  }
 },
 "nbformat": 4,
 "nbformat_minor": 2
}
